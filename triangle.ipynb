{
 "cells": [
  {
   "cell_type": "code",
   "execution_count": null,
   "id": "e5c2ec7a",
   "metadata": {},
   "outputs": [],
   "source": [
    "def pythagoras(opposite_side,adjacent_side,hypothenus):\n",
    "    if opposite_side==str(\"x\"):\n",
    "        return(\"Opposite=\"+str(((hypothenus**2)-(adjacent_side**2)**0.5))\n",
    "    elif adjacent_side==str(\"x\"):\n",
    "        return(\"Adjacent=\" +str(((hypothenus**2)-(opposite_side**2)**0.5))       \n",
    "    elif hypothenus==str(\"x\"):\n",
    "        return(\"Hypothenus=\"+str(((oppposite_side**2)+(adjacent_side**2))**0.5))\n",
    "    else:\n",
    "        return \"The answer is correct!\"  \n",
    "               \n",
    "print(pythagoras(3,4,'x'))\n",
    "print(pythagoras(3,'x',5))\n",
    "print(pythagoras('x',4,5))\n",
    "print(pythagoras(3,4,5))               \n",
    "               \n"
   ]
  },
  {
   "cell_type": "code",
   "execution_count": null,
   "id": "dc7e9636",
   "metadata": {},
   "outputs": [],
   "source": []
  }
 ],
 "metadata": {
  "kernelspec": {
   "display_name": "Python 3 (ipykernel)",
   "language": "python",
   "name": "python3"
  },
  "language_info": {
   "codemirror_mode": {
    "name": "ipython",
    "version": 3
   },
   "file_extension": ".py",
   "mimetype": "text/x-python",
   "name": "python",
   "nbconvert_exporter": "python",
   "pygments_lexer": "ipython3",
   "version": "3.9.7"
  }
 },
 "nbformat": 4,
 "nbformat_minor": 5
}
