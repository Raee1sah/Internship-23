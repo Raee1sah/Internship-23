{
 "cells": [
  {
   "cell_type": "code",
   "execution_count": 2,
   "id": "e76563d3",
   "metadata": {},
   "outputs": [
    {
     "name": "stdout",
     "output_type": "stream",
     "text": [
      "{'h': 1, 'u': 1, 'l': 3, 'a': 2, 'b': 1, 'o': 2}\n"
     ]
    }
   ],
   "source": [
    "def char_frequency(str1):\n",
    "    dict={}\n",
    "    for i in str1:\n",
    "        keys = dict.keys()\n",
    "        if i in keys:\n",
    "            dict[i]+=1\n",
    "        else:\n",
    "            dict[i]=1\n",
    "    return dict\n",
    "print(char_frequency('hullabaloo'))"
   ]
  },
  {
   "cell_type": "code",
   "execution_count": null,
   "id": "a1fcffd6",
   "metadata": {},
   "outputs": [],
   "source": []
  }
 ],
 "metadata": {
  "kernelspec": {
   "display_name": "Python 3 (ipykernel)",
   "language": "python",
   "name": "python3"
  },
  "language_info": {
   "codemirror_mode": {
    "name": "ipython",
    "version": 3
   },
   "file_extension": ".py",
   "mimetype": "text/x-python",
   "name": "python",
   "nbconvert_exporter": "python",
   "pygments_lexer": "ipython3",
   "version": "3.9.7"
  }
 },
 "nbformat": 4,
 "nbformat_minor": 5
}
