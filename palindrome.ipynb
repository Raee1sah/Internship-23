{
 "cells": [
  {
   "cell_type": "code",
   "execution_count": null,
   "id": "b1d2e888",
   "metadata": {},
   "outputs": [],
   "source": [
    "def ispalindrome(string):\n",
    "    return string == string[::-1]\n",
    "#we have defined what a palindrome is\n",
    "\n",
    "string = \"habeebah\"\n",
    "ans = ispalindrome(string)\n",
    "#a test code to see if the word is a palindrome or not \n",
    "\n",
    "if ans:\n",
    "    print(\"is a palindrome\")\n",
    "else:\n",
    "    print(\"is not a palindrome\")\n"
   ]
  },
  {
   "cell_type": "markdown",
   "id": "c5d94197",
   "metadata": {},
   "source": []
  }
 ],
 "metadata": {
  "kernelspec": {
   "display_name": "Python 3 (ipykernel)",
   "language": "python",
   "name": "python3"
  },
  "language_info": {
   "codemirror_mode": {
    "name": "ipython",
    "version": 3
   },
   "file_extension": ".py",
   "mimetype": "text/x-python",
   "name": "python",
   "nbconvert_exporter": "python",
   "pygments_lexer": "ipython3",
   "version": "3.9.7"
  }
 },
 "nbformat": 4,
 "nbformat_minor": 5
}
