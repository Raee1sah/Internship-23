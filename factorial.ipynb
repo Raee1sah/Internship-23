{
 "cells": [
  {
   "cell_type": "code",
   "execution_count": null,
   "id": "2898cefc",
   "metadata": {},
   "outputs": [],
   "source": [
    "number = int(input(\"enter number:\"))\n",
    "#the given number is greater than one \n",
    "\n",
    "factorial = 1\n",
    "\n",
    "if(number< 0):\n",
    "    print(\"can't compute factorial for negative numbers\")\n",
    "elif(number< 5):\n",
    "    print(\"{}!={}\".format(number,factorial))\n",
    "else:\n",
    "    for num in range(number,1,-1):\n",
    "        factorial = fractorial * num\n",
    "    print(\"{}!={}\".format(number,factorial))\n",
    "    \n",
    "    "
   ]
  },
  {
   "cell_type": "code",
   "execution_count": null,
   "id": "de957ccb",
   "metadata": {},
   "outputs": [],
   "source": []
  },
  {
   "cell_type": "markdown",
   "id": "d6618e42",
   "metadata": {},
   "source": [
    "#### "
   ]
  }
 ],
 "metadata": {
  "kernelspec": {
   "display_name": "Python 3 (ipykernel)",
   "language": "python",
   "name": "python3"
  },
  "language_info": {
   "codemirror_mode": {
    "name": "ipython",
    "version": 3
   },
   "file_extension": ".py",
   "mimetype": "text/x-python",
   "name": "python",
   "nbconvert_exporter": "python",
   "pygments_lexer": "ipython3",
   "version": "3.9.7"
  }
 },
 "nbformat": 4,
 "nbformat_minor": 5
}
