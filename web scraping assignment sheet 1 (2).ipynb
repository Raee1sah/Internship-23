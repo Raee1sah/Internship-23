{
 "cells": [
  {
   "cell_type": "code",
   "execution_count": null,
   "id": "5a3e1016",
   "metadata": {},
   "outputs": [],
   "source": [
    "!pip install bs4\n",
    "!pip install requests\n",
    "!pip install pandas"
   ]
  },
  {
   "cell_type": "code",
   "execution_count": null,
   "id": "88f2fa99",
   "metadata": {},
   "outputs": [],
   "source": [
    "from bs4 import BeautifulSoup \n",
    "import requests\n",
    "import pandas as pd"
   ]
  },
  {
   "cell_type": "code",
   "execution_count": null,
   "id": "ddd82c2f",
   "metadata": {},
   "outputs": [],
   "source": [
    "#Question 1\n",
    "#A python program to scrape all header tags from wiki\n",
    "#a request to the webpage server wikipedia.org\n",
    "page = requests.get('https://en.wikipedia.org/wiki/Main_Page')\n",
    "page"
   ]
  },
  {
   "cell_type": "code",
   "execution_count": null,
   "id": "b7f2ed20",
   "metadata": {},
   "outputs": [],
   "source": [
    "#download the page content of wikipedia.org\n",
    "content = BeautifulSoup(page.content)\n",
    "content"
   ]
  },
  {
   "cell_type": "code",
   "execution_count": null,
   "id": "95eb79b2",
   "metadata": {},
   "outputs": [],
   "source": [
    "#scraping single header tag \n",
    "first_header = content.find('span',class_=\"mw-headline\")\n",
    "first_header.text"
   ]
  },
  {
   "cell_type": "code",
   "execution_count": null,
   "id": "ccbe96cb",
   "metadata": {},
   "outputs": [],
   "source": [
    "#scraping multiple header tags \n",
    "#create an empty list \n",
    "headers = []\n",
    "for i in content.find_all('span',class_=\"mw-headline\"):\n",
    "    headers.append(i.text)\n",
    "    \n",
    "headers"
   ]
  },
  {
   "cell_type": "code",
   "execution_count": null,
   "id": "43fd6bb8",
   "metadata": {},
   "outputs": [],
   "source": [
    "#Question 2\n",
    "#A python program to display IMDB's top 100 movies\n",
    "#a request to the webpage server \n",
    "page = requests.get('https://www.imdb.com/list/ls055592025/')\n",
    "page"
   ]
  },
  {
   "cell_type": "code",
   "execution_count": null,
   "id": "ff2a543b",
   "metadata": {},
   "outputs": [],
   "source": [
    "#download the page content of IMDB's website \n",
    "soup = BeautifulSoup(page.content)\n",
    "soup"
   ]
  },
  {
   "cell_type": "code",
   "execution_count": null,
   "id": "b2aeafb5",
   "metadata": {},
   "outputs": [],
   "source": [
    "#scraping the first movie data(name)\n",
    "first_name = soup.find('td',class_=\"titleColumn\")\n",
    "first_name"
   ]
  },
  {
   "cell_type": "code",
   "execution_count": null,
   "id": "4ef5a9cb",
   "metadata": {},
   "outputs": [],
   "source": [
    "#scrap the top 100 movie names\n",
    "movies = []\n",
    "for i in soup.find_all('td',class_=\"titleColumn\"):\n",
    "    movies.append\n",
    "movies"
   ]
  },
  {
   "cell_type": "code",
   "execution_count": null,
   "id": "52f36fe1",
   "metadata": {},
   "outputs": [],
   "source": [
    "#scrap the first top rating \n",
    "first_rating = soup.find('td',class_=\"ratingColumn imdbRating\")\n",
    "first_rating "
   ]
  },
  {
   "cell_type": "code",
   "execution_count": null,
   "id": "3af1d4d1",
   "metadata": {},
   "outputs": [],
   "source": [
    "#scrap the top 100 ratings\n",
    "ratings = []\n",
    "for i in soup.find_all('td',class_=\"ratingColumn imdbRating\"):\n",
    "    ratings.append"
   ]
  },
  {
   "cell_type": "code",
   "execution_count": null,
   "id": "4962e3ea",
   "metadata": {},
   "outputs": [],
   "source": [
    "#scrap the first top movie's year of release \n",
    "#year of release = yor\n",
    "first_trating = soup.find('span',class_=\"secondaryInfo\")\n",
    "first_trating"
   ]
  },
  {
   "cell_type": "code",
   "execution_count": null,
   "id": "ffb7120b",
   "metadata": {},
   "outputs": [],
   "source": [
    "#scrap the top 100 movie's year of release \n",
    "yor = []\n",
    "for i in soup.find_all('span',class_=\"secondaryInfo\"):\n",
    "    yor.append\n",
    "yor"
   ]
  },
  {
   "cell_type": "code",
   "execution_count": null,
   "id": "8658ccc1",
   "metadata": {},
   "outputs": [],
   "source": [
    "#create  a DatFrame \n",
    "df = pd.DataFrame({})\n",
    "df"
   ]
  },
  {
   "cell_type": "code",
   "execution_count": null,
   "id": "88a424d0",
   "metadata": {},
   "outputs": [],
   "source": [
    "#Question 3 \n",
    "#A python program to scrape the top 100 indian movies from IMBD\n",
    "#a request to the server \n",
    "page = requests.get('https://www.imdb.com/india/top-rated-indian-movies/')\n",
    "page"
   ]
  },
  {
   "cell_type": "code",
   "execution_count": null,
   "id": "c1a41340",
   "metadata": {},
   "outputs": [],
   "source": [
    "#download the page contents \n",
    "soup = BeautifulSoup(page.content)\n",
    "soup"
   ]
  },
  {
   "cell_type": "code",
   "execution_count": null,
   "id": "6d35409e",
   "metadata": {},
   "outputs": [],
   "source": [
    "#scrap the first top indian movie\n",
    "first_imovie = soup.find('h3',class_=\"lister-item-header\")\n",
    "first_imovie "
   ]
  },
  {
   "cell_type": "code",
   "execution_count": null,
   "id": "158ed2c9",
   "metadata": {},
   "outputs": [],
   "source": [
    "#scrap the top 100 indian movies \n",
    "indian_movies = []\n",
    "for i in soup.find_all('h3',class_=\"lister-item-header\"):\n",
    "    indian_movies.append\n",
    "indian_movies"
   ]
  },
  {
   "cell_type": "code",
   "execution_count": null,
   "id": "1919fee9",
   "metadata": {},
   "outputs": [],
   "source": [
    "#scrap the rating of the first indian movie\n",
    "first_irating = soup.find('span',class_=\"ipl-rating-star__rating\")\n",
    "first_irating "
   ]
  },
  {
   "cell_type": "code",
   "execution_count": null,
   "id": "7e940cf9",
   "metadata": {},
   "outputs": [],
   "source": [
    "#scrap the top 100 ratings \n",
    "iratings = []\n",
    "for i in soup.find_all('span',class_=\"ipl-rating-star__rating\"):\n",
    "    iratings.append\n",
    "iratings"
   ]
  },
  {
   "cell_type": "code",
   "execution_count": null,
   "id": "e415e093",
   "metadata": {},
   "outputs": [],
   "source": [
    "#scrap the first movie's year of release \n",
    "#yor = year of release \n",
    "first_yor = soup.find('span',class_=\"lister-item-year text-muted unbold\")\n",
    "first_yor"
   ]
  },
  {
   "cell_type": "code",
   "execution_count": null,
   "id": "89e871f9",
   "metadata": {},
   "outputs": [],
   "source": [
    "#scrap the top 100 movie's year of release \n",
    "yor = []\n",
    "for i in soup.find_all('span',class_=\"lister-item-year text-muted unbold\"):\n",
    "    yor.append\n",
    "yor"
   ]
  },
  {
   "cell_type": "code",
   "execution_count": null,
   "id": "18f00683",
   "metadata": {},
   "outputs": [],
   "source": [
    "#Create a DataFrame \n",
    "df = pd.DataFrame({})\n",
    "df"
   ]
  },
  {
   "cell_type": "code",
   "execution_count": null,
   "id": "5d8c9210",
   "metadata": {},
   "outputs": [],
   "source": [
    "#Question 4\n",
    "#A pyhton program to scrape product name,price and discounts\n",
    "#a request to the webpage server\n",
    "page = requests.get('https://meesho.com/bags-ladies/pl/p7vbp')\n",
    "page"
   ]
  },
  {
   "cell_type": "code",
   "execution_count": null,
   "id": "8f407a48",
   "metadata": {},
   "outputs": [],
   "source": [
    "#download the page content of meesho.com\n",
    "content = BeautifulSoup(page.content)\n",
    "content"
   ]
  },
  {
   "cell_type": "code",
   "execution_count": null,
   "id": "00213c40",
   "metadata": {},
   "outputs": [],
   "source": [
    "#scraping the first product (name)\n",
    "first_name = content.find('p',class_=\"Text__StyledText-sc-oo0kvp-0 bWSOET NewProductCard__ProductTitle_Desktop-sc-j0e7tu-4 cQhePS\")\n",
    "first_name"
   ]
  },
  {
   "cell_type": "code",
   "execution_count": null,
   "id": "e0806f02",
   "metadata": {},
   "outputs": [],
   "source": [
    "#scraping multiple product names \n",
    "names = []\n",
    "for i in content.find_all('p',class_=\"Text__StyledText-sc-oo0kvp-0 bWSOET NewProductCard__ProductTitle_Desktop-sc-j0e7tu-4 cQhePS\"):\n",
    "     names.append(i.text)    \n",
    "names"
   ]
  },
  {
   "cell_type": "code",
   "execution_count": null,
   "id": "7fef5d21",
   "metadata": {},
   "outputs": [],
   "source": [
    "#scraping the first product price \n",
    "first_price = content.find('h5',class_=\"Text__StyledText-sc-oo0kvp-0 hiHdyy\")\n",
    "first_price.text"
   ]
  },
  {
   "cell_type": "code",
   "execution_count": null,
   "id": "f411ec81",
   "metadata": {},
   "outputs": [],
   "source": [
    "#scraping multiple product prices \n",
    "prices = []\n",
    "for i in content.find_all('h5',class_=\"Text__StyledText-sc-oo0kvp-0 hiHdyy\"):\n",
    "    prices.append(i.text)\n",
    "prices"
   ]
  },
  {
   "cell_type": "code",
   "execution_count": null,
   "id": "55664b4a",
   "metadata": {},
   "outputs": [],
   "source": [
    "#scraping the first discount \n",
    "first_discount = content.find('p',class_=\"Text__StyledText-sc-oo0kvp-0 fCJVtz NewProductCard__DiscountTextParagraph-sc-j0e7tu-16 kmYsnm NewProductCard__DiscountTextParagraph-sc-j0e7tu-16 kmYsnm\")\n",
    "first_discount.text"
   ]
  },
  {
   "cell_type": "code",
   "execution_count": null,
   "id": "4a398c55",
   "metadata": {},
   "outputs": [],
   "source": [
    "#scraping multiple discounts \n",
    "discount = []\n",
    "for i in content.find_all('p',class_=\"Text__StyledText-sc-oo0kvp-0 fCJVtz NewProductCard__DiscountTextParagraph-sc-j0e7tu-16 kmYsnm NewProductCard__DiscountTextParagraph-sc-j0e7tu-16 kmYsnm\"):\n",
    "    discount.append(i.text)\n",
    "discount"
   ]
  },
  {
   "cell_type": "code",
   "execution_count": null,
   "id": "dd95ed4b",
   "metadata": {},
   "outputs": [],
   "source": [
    "#Creating a DataFrame \n",
    "df = pd.DataFrame({})\n",
    "df"
   ]
  },
  {
   "cell_type": "code",
   "execution_count": null,
   "id": "bd693055",
   "metadata": {},
   "outputs": [],
   "source": [
    "#Question 5\n",
    "#A python program for top ten ODI\n",
    "#a request to the server \n",
    "page = requests.get('https://www.icc-cricket.com/rankings/mens/player-rankings/test')\n",
    "page"
   ]
  },
  {
   "cell_type": "code",
   "execution_count": null,
   "id": "47bd212e",
   "metadata": {},
   "outputs": [],
   "source": [
    "#download page content\n",
    "content = BeautifulSoup(page.content)\n",
    "content"
   ]
  },
  {
   "cell_type": "code",
   "execution_count": null,
   "id": "8322d7e0",
   "metadata": {},
   "outputs": [],
   "source": [
    "#scrap the first team in ODI \n",
    "first_team = content.find('span',class_=\"u-hide-phablet\")\n",
    "first_team"
   ]
  },
  {
   "cell_type": "code",
   "execution_count": null,
   "id": "a6f3a174",
   "metadata": {},
   "outputs": [],
   "source": [
    "#scrap the first 10 ODI teams\n",
    "teams = []\n",
    "for i in content.find_all('span',class_=\"u-hide-phablet\"):\n",
    "    teams.append\n",
    "teams"
   ]
  },
  {
   "cell_type": "code",
   "execution_count": null,
   "id": "c6ea51a3",
   "metadata": {},
   "outputs": [],
   "source": [
    "#scrap the first ODI team match\n",
    "first_match = content.find('td',class_=\"rankings-block__banner--matches\")\n",
    "first_match"
   ]
  },
  {
   "cell_type": "code",
   "execution_count": null,
   "id": "f8f54554",
   "metadata": {},
   "outputs": [],
   "source": [
    "#scrap the first 10 ODI team matches \n",
    "team_matches = []\n",
    "for i in content.find_all('td',class_=\"rankings-block__banner--matches\"):\n",
    "    team_matches.append\n",
    "team_matches"
   ]
  },
  {
   "cell_type": "code",
   "execution_count": null,
   "id": "a123309b",
   "metadata": {},
   "outputs": [],
   "source": [
    "#scrap the first ODI team point\n",
    "first_point = content.find('td',class_=\"rankings-block__banner--points\")\n",
    "first_point "
   ]
  },
  {
   "cell_type": "code",
   "execution_count": null,
   "id": "8b10e2db",
   "metadata": {},
   "outputs": [],
   "source": [
    "#scrap the first 10 ODI team points \n",
    "team_points = []\n",
    "for i in content.find_all('td',class_=\"rankings-block__banner--points\"):\n",
    "    team_points.append \n",
    "team_points"
   ]
  },
  {
   "cell_type": "code",
   "execution_count": null,
   "id": "f8023437",
   "metadata": {},
   "outputs": [],
   "source": [
    "#scrap the first ODI team rating \n",
    "first_rating = content.find('td',class_=\"rankings-block__banner--rating u-text-right\")\n",
    "first_rating "
   ]
  },
  {
   "cell_type": "code",
   "execution_count": null,
   "id": "d65d2c50",
   "metadata": {},
   "outputs": [],
   "source": [
    "#scrap the first 10 ODI team ratings \n",
    "team_ratings = []\n",
    "for i in content.find_all('td',class_=\"rankings-block__banner--rating u-text-right\"):\n",
    "    team_ratings.append \n",
    "team_ratings"
   ]
  },
  {
   "cell_type": "code",
   "execution_count": null,
   "id": "367dec2c",
   "metadata": {},
   "outputs": [],
   "source": [
    "#scrap the first ODI batsman\n",
    "first_batsman = content.find('div',class_=\"rankings-block__banner--name\")\n",
    "first_batsman"
   ]
  },
  {
   "cell_type": "code",
   "execution_count": null,
   "id": "91643ad4",
   "metadata": {},
   "outputs": [],
   "source": [
    "#scrap the first 10 ODI batsmen\n",
    "batsmen = []\n",
    "for i in content.find_all('div',class_=\"rankings-block__banner--name\"):\n",
    "    batsmen.append\n",
    "batsmen"
   ]
  },
  {
   "cell_type": "code",
   "execution_count": null,
   "id": "7ee78e92",
   "metadata": {},
   "outputs": [],
   "source": [
    "#scrap the first ODI batsmen team \n",
    "first_bteam = content.find('div',cass_=\"rankings-block__banner--nationality\")\n",
    "first_bteam"
   ]
  },
  {
   "cell_type": "code",
   "execution_count": null,
   "id": "1ac68e11",
   "metadata": {},
   "outputs": [],
   "source": [
    "#scrap the first 10 ODI batsmen team \n",
    "batsmen_team = []\n",
    "for i in content.find_all('div',cass_=\"rankings-block__banner--nationality\"):\n",
    "    batsmen_team.append\n",
    "batsmen_team"
   ]
  },
  {
   "cell_type": "code",
   "execution_count": null,
   "id": "50836e3b",
   "metadata": {},
   "outputs": [],
   "source": [
    "#scrap the first ODI batsmen rating \n",
    "first_brating = content.find('div',class_=\"rankings-block__banner--rating\")\n",
    "first_brating.text"
   ]
  },
  {
   "cell_type": "code",
   "execution_count": null,
   "id": "b0639253",
   "metadata": {},
   "outputs": [],
   "source": [
    "#scrap the first 10 ODI batsmen rating \n",
    "batsmen_rating = []\n",
    "for i in content.find_all('div',class_=\"rankings-block__banner--rating\"):\n",
    "    batsmen_rating.append(i.text)\n",
    "batsmen_rating"
   ]
  },
  {
   "cell_type": "code",
   "execution_count": null,
   "id": "55bc3083",
   "metadata": {},
   "outputs": [],
   "source": [
    "#scrap the first ODI bowler \n",
    "first_bowler = content.find('div',class_=\"rankings-block__banner--name\")\n",
    "first_bowler"
   ]
  },
  {
   "cell_type": "code",
   "execution_count": null,
   "id": "7291dd70",
   "metadata": {},
   "outputs": [],
   "source": [
    "#scrap the first 10 ODI bowlers \n",
    "bowlers = []\n",
    "for i in content.find_all('div',class_=\"rankings-block__banner--name\"):\n",
    "    bowlers.append\n",
    "bowlers"
   ]
  },
  {
   "cell_type": "code",
   "execution_count": null,
   "id": "5a86e061",
   "metadata": {},
   "outputs": [],
   "source": [
    "#scrap the first ODI bowlers team \n",
    "first_boteam = content.find('div',class_=\"rankings-block__banner--nationality\")\n",
    "first_boteam.text"
   ]
  },
  {
   "cell_type": "code",
   "execution_count": null,
   "id": "584d7b27",
   "metadata": {},
   "outputs": [],
   "source": [
    "#scrap the first 10 ODI bowlers teams\n",
    "bowler_team = []\n",
    "for i in content.find_all('div',class_=\"rankings-block__banner--nationality\"):\n",
    "    bowler_team.append(i.text)\n",
    "bowler_team"
   ]
  },
  {
   "cell_type": "code",
   "execution_count": null,
   "id": "432e130b",
   "metadata": {},
   "outputs": [],
   "source": [
    "#scrap the first ODI bowlers rating \n",
    "first_borating = content.find ('div',class_=\"rankings-block__banner--rating\")\n",
    "first_borating "
   ]
  },
  {
   "cell_type": "code",
   "execution_count": null,
   "id": "d04cbf23",
   "metadata": {},
   "outputs": [],
   "source": [
    "#scrap the first 10 ODI bowlers rating \n",
    "bowler_rating = []\n",
    "for i in content.find_all('div',class_=\"rankings-block__banner--rating\"):\n",
    "    bowler_rating.append(i.text)\n",
    "bowler_rating"
   ]
  },
  {
   "cell_type": "code",
   "execution_count": null,
   "id": "c851a3fb",
   "metadata": {},
   "outputs": [],
   "source": [
    "#Creating a DataFrame \n",
    "df = pd.DataFrame({})\n",
    "df"
   ]
  },
  {
   "cell_type": "code",
   "execution_count": null,
   "id": "01259520",
   "metadata": {},
   "outputs": [],
   "source": [
    "#Question 6\n",
    "#A python program to scrape cricket ranking \n",
    "#a request to ther server \n",
    "page = requests.get('https://www.icc-cricket.com/rankings/womens/overview')\n",
    "page "
   ]
  },
  {
   "cell_type": "code",
   "execution_count": null,
   "id": "c525150a",
   "metadata": {},
   "outputs": [],
   "source": [
    "#download page content\n",
    "soup =  BeautifulSoup(page.content)\n",
    "soup"
   ]
  },
  {
   "cell_type": "code",
   "execution_count": null,
   "id": "36cb8c7f",
   "metadata": {},
   "outputs": [],
   "source": [
    "#scrap the first female ODI team \n",
    "first_fteam = soup.find('span',class_=\"u-hide-phablet\")\n",
    "first_fteam "
   ]
  },
  {
   "cell_type": "code",
   "execution_count": null,
   "id": "27ab2f8c",
   "metadata": {},
   "outputs": [],
   "source": [
    "#scrap the first 10 female ODI team\n",
    "female_team = []\n",
    "for i in soup.find_all('span',class_=\"u-hide-phablet\"):\n",
    "    female_team.append(i.text)\n",
    "female_team"
   ]
  },
  {
   "cell_type": "code",
   "execution_count": null,
   "id": "26ba483d",
   "metadata": {},
   "outputs": [],
   "source": [
    "#scrap the first ODI match\n",
    "first_fmatch = soup.find('td',class_=\"rankings-block__banner--matches\")\n",
    "first_fmatch "
   ]
  },
  {
   "cell_type": "code",
   "execution_count": null,
   "id": "7f7c2321",
   "metadata": {},
   "outputs": [],
   "source": [
    "#scrap the first 10 female ODI matches \n",
    "female_match = []\n",
    "for i in soup.find_all('td',class_=\"rankings-block__banner--matches\"):\n",
    "    female_match.append(i.text)\n",
    "female_match"
   ]
  },
  {
   "cell_type": "code",
   "execution_count": null,
   "id": "0e0936b7",
   "metadata": {},
   "outputs": [],
   "source": [
    "#scrap the first female ODI point\n",
    "first_point = soup.find('td',class_=\"rankings-block__banner--points\")\n",
    "first_point"
   ]
  },
  {
   "cell_type": "code",
   "execution_count": null,
   "id": "c925cec9",
   "metadata": {},
   "outputs": [],
   "source": [
    "#scrap the first 10 female ODI point\n",
    "female_point = []\n",
    "for i in soup.find_all('td',class_=\"rankings-block__banner--points\"):\n",
    "    female_point.append \n",
    "female_point"
   ]
  },
  {
   "cell_type": "code",
   "execution_count": null,
   "id": "0b578fa6",
   "metadata": {},
   "outputs": [],
   "source": [
    "#scrap the first female ODI rating \n",
    "first_frating = soup.find('td',class_=\"rankings-block__banner--rating u-text-right\")\n",
    "first_frating "
   ]
  },
  {
   "cell_type": "code",
   "execution_count": null,
   "id": "3fe41a84",
   "metadata": {},
   "outputs": [],
   "source": [
    "#scrap the first 10 female ODI ratings \n",
    "female_rating = []\n",
    "for i in soup.find_all('td',class_=\"rankings-block__banner--rating u-text-right\"):\n",
    "    female_rating.append\n",
    "female_rating"
   ]
  },
  {
   "cell_type": "code",
   "execution_count": null,
   "id": "92dbd0b4",
   "metadata": {},
   "outputs": [],
   "source": [
    "#scrap the first female ODI batting player \n",
    "first_batting = soup.find('div',class_=\"rankings-block__banner--name\")\n",
    "first_batting "
   ]
  },
  {
   "cell_type": "code",
   "execution_count": null,
   "id": "55439d72",
   "metadata": {},
   "outputs": [],
   "source": [
    "#scrap the first 10 female ODI batting players \n",
    "batting = []\n",
    "for i in soup.find_all('div',class_=\"rankings-block__banner--name\"):\n",
    "    batting.append(i.text)\n",
    "batting"
   ]
  },
  {
   "cell_type": "code",
   "execution_count": null,
   "id": "c9a8c162",
   "metadata": {},
   "outputs": [],
   "source": [
    "#scrap the first female ODI team batting player \n",
    "first_tbatting = soup.find('div',class_=\"flag-15 SA\")\n",
    "first_tbatting "
   ]
  },
  {
   "cell_type": "code",
   "execution_count": null,
   "id": "7f8e80ea",
   "metadata": {},
   "outputs": [],
   "source": [
    "#scrap the first 10 female ODI team batting players \n",
    "tbatting = []\n",
    "for i in soup.find_all('div',class_=\"flag-15 SA\"):\n",
    "    tbatting.append(i.text)\n",
    "tbatting"
   ]
  },
  {
   "cell_type": "code",
   "execution_count": null,
   "id": "9f19af60",
   "metadata": {},
   "outputs": [],
   "source": [
    "#scrap the first female ODI rating \n",
    "first_fbrating = soup.find('div',class_=\"rankings-block__banner--rating\")\n",
    "first_fbrating "
   ]
  },
  {
   "cell_type": "code",
   "execution_count": null,
   "id": "8fec3e59",
   "metadata": {},
   "outputs": [],
   "source": [
    "#scrap the first 10 female ODI ratings\n",
    "fbatting_rating = []\n",
    "for i in soup.find_all('div',class_=\"rankings-block__banner--rating\"):\n",
    "    fbatting_rating.append(i.text)\n",
    "fbatting_rating"
   ]
  },
  {
   "cell_type": "code",
   "execution_count": null,
   "id": "9024b0ad",
   "metadata": {},
   "outputs": [],
   "source": [
    "#scrap the first female ODI all rounder \n",
    "first_allrounder = soup.find('div',class_=\"rankings-block__banner--name\")\n",
    "first_allrounder "
   ]
  },
  {
   "cell_type": "code",
   "execution_count": null,
   "id": "7e46e4d3",
   "metadata": {},
   "outputs": [],
   "source": [
    "#scrap the first 10 female ODI allrounder\n",
    "all_rounder =[]\n",
    "for i in soup.find_all('div',class_=\"rankings-block__banner--name\"):\n",
    "    all_rounder.append(i.text)\n",
    "all_rounder"
   ]
  },
  {
   "cell_type": "code",
   "execution_count": null,
   "id": "1e7b678a",
   "metadata": {},
   "outputs": [],
   "source": [
    "#scrap the first female ODI allrounder team\n",
    "first_tallrounder = soup.find('div',class_=\"flag-15 SA\")\n",
    "first_tallrounder "
   ]
  },
  {
   "cell_type": "code",
   "execution_count": null,
   "id": "d1495801",
   "metadata": {},
   "outputs": [],
   "source": [
    "#scrap the first 10 female ODI allrounder teams \n",
    "all_rounderteam =[]\n",
    "for i in soup.find_all('div',class_=\"flag-15 SA\"):\n",
    "    all_rounderteam.append(i.text)\n",
    "all_rounderteam"
   ]
  },
  {
   "cell_type": "code",
   "execution_count": null,
   "id": "85522d14",
   "metadata": {},
   "outputs": [],
   "source": [
    "#scrap the first female ODI allrounder rating\n",
    "first_allrating = soup.find('div',class_=\"rankings-block__banner--rating\")\n",
    "first_allrating"
   ]
  },
  {
   "cell_type": "code",
   "execution_count": null,
   "id": "fc4dcffc",
   "metadata": {},
   "outputs": [],
   "source": [
    "#scrap the first 10 female ODI allrounder rating\n",
    "all_rating = []\n",
    "for i in soup.find_all('div',class_=\"rankings-block__banner--rating\"):\n",
    "    all_rating.append(i.text)\n",
    "all_rating"
   ]
  },
  {
   "cell_type": "code",
   "execution_count": null,
   "id": "d9dd635d",
   "metadata": {},
   "outputs": [],
   "source": [
    "#creating a DataFrame \n",
    "df = pd.DatFrame({})\n",
    "df "
   ]
  },
  {
   "cell_type": "code",
   "execution_count": null,
   "id": "845d1a05",
   "metadata": {},
   "outputs": [],
   "source": [
    "#Question 7\n",
    "#A python to scrap the data frm corevms\n",
    "#a request to the web server \n",
    "page = requests.get('https://coreyms.com/')\n",
    "page"
   ]
  },
  {
   "cell_type": "code",
   "execution_count": null,
   "id": "16c83677",
   "metadata": {},
   "outputs": [],
   "source": [
    "#download page content \n",
    "soup = BeautifulSoup(page.content)\n",
    "soup"
   ]
  },
  {
   "cell_type": "code",
   "execution_count": null,
   "id": "b28909e4",
   "metadata": {},
   "outputs": [],
   "source": [
    "#scrap the first heading \n",
    "first_heading = soup.find('a',class_=\"entry-title-link\")\n",
    "first_heading.text"
   ]
  },
  {
   "cell_type": "code",
   "execution_count": null,
   "id": "0aa41061",
   "metadata": {},
   "outputs": [],
   "source": [
    "#scrap multiple heading \n",
    "heading = []\n",
    "for i in soup.find_all('a',class_=\"entry-title-link\"):\n",
    "    heading.append(i.text)\n",
    "heading"
   ]
  },
  {
   "cell_type": "code",
   "execution_count": null,
   "id": "1bd80274",
   "metadata": {},
   "outputs": [],
   "source": [
    "#scrap the first date \n",
    "first_date = soup.find('time',class_=\"entry-time\")\n",
    "first_date.text "
   ]
  },
  {
   "cell_type": "code",
   "execution_count": null,
   "id": "aa8bdc48",
   "metadata": {},
   "outputs": [],
   "source": [
    "#scrap multiple dates\n",
    "date = []\n",
    "for i in soup.find_all('time',class_=\"entry-time\"):\n",
    "    date.append(i.text)\n",
    "date"
   ]
  },
  {
   "cell_type": "code",
   "execution_count": null,
   "id": "0847103b",
   "metadata": {},
   "outputs": [],
   "source": [
    "#scrap the first content\n",
    "first_content = soup.find('div',class_=\"entry-content\")\n",
    "first_content.text"
   ]
  },
  {
   "cell_type": "code",
   "execution_count": null,
   "id": "fbd96add",
   "metadata": {},
   "outputs": [],
   "source": [
    "#scrap multiple contents\n",
    "content_ = []\n",
    "for i in soup.find_all('div',class_=\"entry-content\"):\n",
    "    content_.append(i.text)\n",
    "content_"
   ]
  },
  {
   "cell_type": "code",
   "execution_count": null,
   "id": "0bc46176",
   "metadata": {},
   "outputs": [],
   "source": [
    "#scrap the first video code\n",
    "first_video = soup.find('div',class_=\"ytp-title-text\")\n",
    "first_video"
   ]
  },
  {
   "cell_type": "code",
   "execution_count": null,
   "id": "dc1cccf5",
   "metadata": {},
   "outputs": [],
   "source": [
    "#scrap multiple video codes \n",
    "videos = []\n",
    "for i in soup.find_all('a',class_=\"ytp-title-link yt-uix-sessionlink\"):\n",
    "    videos.append(i.text)\n",
    "videos"
   ]
  },
  {
   "cell_type": "code",
   "execution_count": null,
   "id": "fd65d640",
   "metadata": {},
   "outputs": [],
   "source": [
    "#Create a DqataFrame \n",
    "df = pd.DataFrame({'Heading':heading,'Date':date,'Content':content_})\n",
    "df"
   ]
  },
  {
   "cell_type": "code",
   "execution_count": null,
   "id": "3aa5cf42",
   "metadata": {},
   "outputs": [],
   "source": [
    "#Question 8\n",
    "#A python program to collect household details \n",
    "# a request to the server\n",
    "page = requests.get('https://www.nobroker.in/')\n",
    "page"
   ]
  },
  {
   "cell_type": "code",
   "execution_count": null,
   "id": "2ec2eaed",
   "metadata": {},
   "outputs": [],
   "source": [
    "#download the page contents\n",
    "content = BeautifulSoup(page.content)\n",
    "content"
   ]
  },
  {
   "cell_type": "code",
   "execution_count": null,
   "id": "4cbb0785",
   "metadata": {},
   "outputs": [],
   "source": [
    "#scrap the first house title\n",
    "first_house = content.find('h2',class_=\"heading-6 font-semi-bold nb__25Cl7\")\n",
    "first_house"
   ]
  },
  {
   "cell_type": "code",
   "execution_count": null,
   "id": "d05d26ea",
   "metadata": {},
   "outputs": [],
   "source": [
    "#scrap multiple house titles\n",
    "houses = []\n",
    "for i in content.find_all('h2',class_=\"heading-6 font-semi-bold nb__25Cl7\"):\n",
    "    houses.append(i.text)\n",
    "houses"
   ]
  },
  {
   "cell_type": "code",
   "execution_count": null,
   "id": "8fcd885e",
   "metadata": {},
   "outputs": [],
   "source": [
    "#scrap the first location \n",
    "first_location = content.find('div',class_=\"nb__nXU01\")\n",
    "first_location "
   ]
  },
  {
   "cell_type": "code",
   "execution_count": null,
   "id": "1760ede9",
   "metadata": {},
   "outputs": [],
   "source": [
    "#scrap multiple locations \n",
    "locations = []\n",
    "for i in content.find_all('div',class_=\"nb__nXU01\"):\n",
    "    locations.append(i.text)\n",
    "locations"
   ]
  },
  {
   "cell_type": "code",
   "execution_count": null,
   "id": "98ca5b02",
   "metadata": {},
   "outputs": [],
   "source": [
    "#scrap the first area \n",
    "first_area = content.find('div',class_=\"nb__FfHqA\")\n",
    "first_area "
   ]
  },
  {
   "cell_type": "code",
   "execution_count": null,
   "id": "e744fa47",
   "metadata": {},
   "outputs": [],
   "source": [
    "#scrap multiple areas \n",
    "areas = []\n",
    "for i in content.find_all('div',class_=\"nb__FfHqA\"):\n",
    "    areas.append\n",
    "areas"
   ]
  },
  {
   "cell_type": "code",
   "execution_count": null,
   "id": "3a8b4549",
   "metadata": {},
   "outputs": [],
   "source": [
    "#scrap the first EMI\n",
    "first_EMI = content.find ('div',class_=\"nb__4L90a nb__1a7t5\")\n",
    "first_EMI"
   ]
  },
  {
   "cell_type": "code",
   "execution_count": null,
   "id": "87cd1bf8",
   "metadata": {},
   "outputs": [],
   "source": [
    "#scrap multiple EMI's \n",
    "EMI = []\n",
    "for i in content.find_all('div',class_=\"nb__4L90a nb__1a7t5\"):\n",
    "    EMI.append\n",
    "EMI"
   ]
  },
  {
   "cell_type": "code",
   "execution_count": null,
   "id": "dd17db16",
   "metadata": {},
   "outputs": [],
   "source": [
    "#scrap the first price \n",
    "first_price = content.find('div',class_=\"heading-5 font-semi-bold\")\n",
    "first_price"
   ]
  },
  {
   "cell_type": "code",
   "execution_count": null,
   "id": "1acb57ce",
   "metadata": {},
   "outputs": [],
   "source": [
    "#scrap multiple prices\n",
    "prices = []\n",
    "for i in content.find_all('div',class_=\"heading-5 font-semi-bold\"):\n",
    "    prices.append(i.text.split)\n",
    "prices"
   ]
  },
  {
   "cell_type": "code",
   "execution_count": null,
   "id": "7ead97a4",
   "metadata": {},
   "outputs": [],
   "source": [
    "#Create a DataFrame \n",
    "df = pd.DataFrame({})\n",
    "df"
   ]
  },
  {
   "cell_type": "code",
   "execution_count": null,
   "id": "943893c5",
   "metadata": {},
   "outputs": [],
   "source": [
    "#Question 9\n",
    "#A python program to display the certain details from dineout\n",
    "#send a request to the webpage server\n",
    "page = requests.get('https://www.dineout.co.in/delhi-restaurants/buffet-special')\n",
    "page"
   ]
  },
  {
   "cell_type": "code",
   "execution_count": null,
   "id": "5a752ab5",
   "metadata": {},
   "outputs": [],
   "source": [
    "#download the page contents \n",
    "soup = BeautifulSoup(page.content)\n",
    "soup"
   ]
  },
  {
   "cell_type": "code",
   "execution_count": null,
   "id": "f3e4b6ef",
   "metadata": {},
   "outputs": [],
   "source": [
    "#scraping the first restaurant name \n",
    "first_rname = soup.find('div',class_=\"restnt-info cursor\")\n",
    "first_rname.text"
   ]
  },
  {
   "cell_type": "code",
   "execution_count": null,
   "id": "e68f9e27",
   "metadata": {},
   "outputs": [],
   "source": [
    "#scraping multiple restaurant names \n",
    "names = []\n",
    "for i in soup.find_all('div',class_=\"restnt-info cursor\"):\n",
    "    names.append(i.text)\n",
    "names"
   ]
  },
  {
   "cell_type": "code",
   "execution_count": null,
   "id": "df94215b",
   "metadata": {},
   "outputs": [],
   "source": [
    "#scraping the first cuisine \n",
    "first_cname = soup.find('span',class_=\"double-line-ellipsis\")\n",
    "first_cname.text.split()[1]"
   ]
  },
  {
   "cell_type": "code",
   "execution_count": null,
   "id": "18ebcae1",
   "metadata": {},
   "outputs": [],
   "source": [
    "#scraping multpile cuisines \n",
    "cuisines = []\n",
    "for i in soup.find_all('span',class_=\"double-line-ellipsis\"):\n",
    "    cuisines.append(i.text.split('1')[0])\n",
    "cuisines\n"
   ]
  },
  {
   "cell_type": "code",
   "execution_count": null,
   "id": "4a4293f9",
   "metadata": {},
   "outputs": [],
   "source": [
    "#scraping the first location\n",
    "loc = soup.find('div',class_=\"restnt-loc ellipsis\")\n",
    "loc.text\n"
   ]
  },
  {
   "cell_type": "code",
   "execution_count": null,
   "id": "fe1a2645",
   "metadata": {},
   "outputs": [],
   "source": [
    "#scraping multiple locations \n",
    "location = []\n",
    "for i in soup.find_all('div',class_=\"restnt-loc ellipsis\"):\n",
    "    location.append(i.text)\n",
    "location"
   ]
  },
  {
   "cell_type": "code",
   "execution_count": null,
   "id": "2dfc0a42",
   "metadata": {},
   "outputs": [],
   "source": [
    "#scraping the first rating\n",
    "first_rating = soup.find('div',class_=\"restnt-rating rating-4\")\n",
    "first_rating.text"
   ]
  },
  {
   "cell_type": "code",
   "execution_count": null,
   "id": "e0b6e7c8",
   "metadata": {},
   "outputs": [],
   "source": [
    "#scraping multiple ratings \n",
    "ratings = []\n",
    "for i in soup.find_all('div',class_=\"restnt-rating rating-4\"):\n",
    "    ratings.append(i.text)\n",
    "ratings "
   ]
  },
  {
   "cell_type": "code",
   "execution_count": null,
   "id": "ffd95d7d",
   "metadata": {},
   "outputs": [],
   "source": [
    "#scraping the first image URL\n",
    "first_image = soup.find('img',class_=\"no-img\")\n",
    "first_image"
   ]
  },
  {
   "cell_type": "code",
   "execution_count": null,
   "id": "338e8d56",
   "metadata": {},
   "outputs": [],
   "source": [
    "#scraping multiple image URLs\n",
    "images = []\n",
    "for i in soup.find_all('img',class_=\"no-img\"):\n",
    "    images.append(i['data-src'])\n",
    "images"
   ]
  },
  {
   "cell_type": "code",
   "execution_count": null,
   "id": "331acab4",
   "metadata": {},
   "outputs": [],
   "source": [
    "#check the length of all scraped data \n",
    "print(len(names),len(cuisines),len(location),len(ratings),len(images))\n",
    "print "
   ]
  },
  {
   "cell_type": "code",
   "execution_count": null,
   "id": "43fa9ac8",
   "metadata": {},
   "outputs": [],
   "source": [
    "df = pd.DataFrame({'Names':names,'Cuisines':cuisines,'Location':location,'Ratings':ratings,'Images':images})\n",
    "df"
   ]
  },
  {
   "cell_type": "code",
   "execution_count": null,
   "id": "f721d919",
   "metadata": {},
   "outputs": [],
   "source": [
    "#Question 10\n",
    "#A python program to display first 10 product details \n",
    "#send a request to the webpage server \n",
    "page = requests.get('https://www.bewakoof.com/women-tshirts?ga_q=tshirts')\n",
    "page"
   ]
  },
  {
   "cell_type": "code",
   "execution_count": null,
   "id": "62dc460d",
   "metadata": {},
   "outputs": [],
   "source": [
    "#download page content \n",
    "soup = BeautifulSoup(page.content)\n",
    "soup"
   ]
  },
  {
   "cell_type": "code",
   "execution_count": null,
   "id": "76f8ca73",
   "metadata": {},
   "outputs": [],
   "source": [
    "#scraping the first product name \n",
    "first_pname = soup.find('div',class_=\"productCardDetail \")\n",
    "first_pname "
   ]
  },
  {
   "cell_type": "code",
   "execution_count": null,
   "id": "e369a9c8",
   "metadata": {},
   "outputs": [],
   "source": [
    "#scraping the first 10 product names \n",
    "names = []\n",
    "for i in soup.find_all('div',class_=\"productCardDetail \"):\n",
    "    names.append(i.text)\n",
    "names"
   ]
  },
  {
   "cell_type": "code",
   "execution_count": null,
   "id": "d8d9637c",
   "metadata": {},
   "outputs": [],
   "source": [
    "#scraping the first product price \n",
    "first_pprice = soup.find('span',class_=\"discountedPriceText \")\n",
    "first_pprice"
   ]
  },
  {
   "cell_type": "code",
   "execution_count": null,
   "id": "5e83642d",
   "metadata": {},
   "outputs": [],
   "source": [
    "#scraping the first 10 product prices\n",
    "prices = []\n",
    "for i in soup.find_all('span',class_=\"discountedPriceText \"):\n",
    "    prices.append(i.text)\n",
    "prices"
   ]
  },
  {
   "cell_type": "code",
   "execution_count": null,
   "id": "f816c913",
   "metadata": {},
   "outputs": [],
   "source": [
    "#scraping the first ten image URLs\n",
    "images = []\n",
    "for i in soup.find_all('img',class_=\"swiper-lazy swiper-lazy-loaded\"):\n",
    "    images.append(i['data-src'])\n",
    "images"
   ]
  },
  {
   "cell_type": "code",
   "execution_count": null,
   "id": "8804321a",
   "metadata": {},
   "outputs": [],
   "source": [
    "#creating a DataFrame \n",
    "df = pd.DataFrame({'Names':names,'Prices':prices,'Images URL':images})"
   ]
  },
  {
   "cell_type": "code",
   "execution_count": null,
   "id": "874040a3",
   "metadata": {},
   "outputs": [],
   "source": []
  }
 ],
 "metadata": {
  "kernelspec": {
   "display_name": "Python 3 (ipykernel)",
   "language": "python",
   "name": "python3"
  },
  "language_info": {
   "codemirror_mode": {
    "name": "ipython",
    "version": 3
   },
   "file_extension": ".py",
   "mimetype": "text/x-python",
   "name": "python",
   "nbconvert_exporter": "python",
   "pygments_lexer": "ipython3",
   "version": "3.9.7"
  }
 },
 "nbformat": 4,
 "nbformat_minor": 5
}
