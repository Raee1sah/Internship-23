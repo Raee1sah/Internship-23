{
 "cells": [
  {
   "cell_type": "code",
   "execution_count": 1,
   "id": "4d3fea77",
   "metadata": {},
   "outputs": [
    {
     "name": "stdout",
     "output_type": "stream",
     "text": [
      "Requirement already satisfied: selenium in c:\\users\\hp\\anaconda3\\lib\\site-packages (4.1.0)\n",
      "Requirement already satisfied: trio~=0.17 in c:\\users\\hp\\anaconda3\\lib\\site-packages (from selenium) (0.19.0)\n",
      "Requirement already satisfied: trio-websocket~=0.9 in c:\\users\\hp\\anaconda3\\lib\\site-packages (from selenium) (0.9.2)\n",
      "Requirement already satisfied: urllib3[secure]~=1.26 in c:\\users\\hp\\anaconda3\\lib\\site-packages (from selenium) (1.26.7)\n",
      "Requirement already satisfied: idna in c:\\users\\hp\\anaconda3\\lib\\site-packages (from trio~=0.17->selenium) (3.2)\n",
      "Requirement already satisfied: outcome in c:\\users\\hp\\anaconda3\\lib\\site-packages (from trio~=0.17->selenium) (1.1.0)\n",
      "Requirement already satisfied: cffi>=1.14 in c:\\users\\hp\\anaconda3\\lib\\site-packages (from trio~=0.17->selenium) (1.14.6)\n",
      "Requirement already satisfied: async-generator>=1.9 in c:\\users\\hp\\anaconda3\\lib\\site-packages (from trio~=0.17->selenium) (1.10)\n",
      "Requirement already satisfied: sniffio in c:\\users\\hp\\anaconda3\\lib\\site-packages (from trio~=0.17->selenium) (1.2.0)\n",
      "Requirement already satisfied: sortedcontainers in c:\\users\\hp\\anaconda3\\lib\\site-packages (from trio~=0.17->selenium) (2.4.0)\n",
      "Requirement already satisfied: attrs>=19.2.0 in c:\\users\\hp\\anaconda3\\lib\\site-packages (from trio~=0.17->selenium) (21.2.0)\n",
      "Requirement already satisfied: pycparser in c:\\users\\hp\\anaconda3\\lib\\site-packages (from cffi>=1.14->trio~=0.17->selenium) (2.20)\n",
      "Requirement already satisfied: wsproto>=0.14 in c:\\users\\hp\\anaconda3\\lib\\site-packages (from trio-websocket~=0.9->selenium) (1.0.0)\n",
      "Requirement already satisfied: pyOpenSSL>=0.14 in c:\\users\\hp\\anaconda3\\lib\\site-packages (from urllib3[secure]~=1.26->selenium) (21.0.0)\n",
      "Requirement already satisfied: cryptography>=1.3.4 in c:\\users\\hp\\anaconda3\\lib\\site-packages (from urllib3[secure]~=1.26->selenium) (3.4.8)\n",
      "Requirement already satisfied: certifi in c:\\users\\hp\\anaconda3\\lib\\site-packages (from urllib3[secure]~=1.26->selenium) (2021.10.8)\n",
      "Requirement already satisfied: six>=1.5.2 in c:\\users\\hp\\anaconda3\\lib\\site-packages (from pyOpenSSL>=0.14->urllib3[secure]~=1.26->selenium) (1.16.0)\n",
      "Requirement already satisfied: h11<1,>=0.9.0 in c:\\users\\hp\\anaconda3\\lib\\site-packages (from wsproto>=0.14->trio-websocket~=0.9->selenium) (0.12.0)\n"
     ]
    }
   ],
   "source": [
    "#Install Selenium \n",
    "!pip install selenium"
   ]
  },
  {
   "cell_type": "code",
   "execution_count": 2,
   "id": "59fb7bf1",
   "metadata": {},
   "outputs": [],
   "source": [
    "#Import all the necessary libraries \n",
    "import selenium \n",
    "from selenium import webdriver \n",
    "import pandas as pd \n",
    "\n",
    "import warnings \n",
    "warnings.filterwarnings(\"ignore\")"
   ]
  },
  {
   "cell_type": "code",
   "execution_count": 21,
   "id": "b0dbe00a",
   "metadata": {},
   "outputs": [],
   "source": [
    "#Downloading the webdriver for the web browser\n",
    "driver=webdriver.Chrome(\"C:\\\\Users\\HP\\Downloads\\chromedriver_win32 (1)\\chromedriver.exe\")"
   ]
  },
  {
   "cell_type": "code",
   "execution_count": 22,
   "id": "1a35ddf8",
   "metadata": {},
   "outputs": [],
   "source": [
    "#Question 1\n",
    "url=\"https://www.naukri.com/\"\n",
    "driver.get(url)"
   ]
  },
  {
   "cell_type": "code",
   "execution_count": 23,
   "id": "d0f1a920",
   "metadata": {},
   "outputs": [
    {
     "data": {
      "text/plain": [
       "<selenium.webdriver.remote.webelement.WebElement (session=\"182f1f4f9bebd90629e54185f3eb4344\", element=\"83e55947-992a-4c82-9d63-a7ecbb39939c\")>"
      ]
     },
     "execution_count": 23,
     "metadata": {},
     "output_type": "execute_result"
    }
   ],
   "source": [
    "#Finding the element for search bar using xpath\n",
    "search_bar=driver.find_element_by_xpath(\"/html/body/div/div[2]/div[4]/div/div/div[1]/div/div/div/input\")\n",
    "search_bar"
   ]
  },
  {
   "cell_type": "code",
   "execution_count": 24,
   "id": "ca1e04b7",
   "metadata": {},
   "outputs": [],
   "source": [
    "#typing in searchbar \n",
    "search_bar.send_keys(\"Data Analyst\")"
   ]
  },
  {
   "cell_type": "code",
   "execution_count": 25,
   "id": "43a2045d",
   "metadata": {},
   "outputs": [
    {
     "data": {
      "text/plain": [
       "<selenium.webdriver.remote.webelement.WebElement (session=\"182f1f4f9bebd90629e54185f3eb4344\", element=\"27104b06-67d1-4f57-b8cf-c2023a19940a\")>"
      ]
     },
     "execution_count": 25,
     "metadata": {},
     "output_type": "execute_result"
    }
   ],
   "source": [
    "#finding the web element for search icon bar\n",
    "search_locn=driver.find_element_by_xpath(\"/html/body/div/div[2]/div[4]/div/div/div[3]/div/div/div/input\")\n",
    "search_locn"
   ]
  },
  {
   "cell_type": "code",
   "execution_count": 26,
   "id": "5ff4ada5",
   "metadata": {},
   "outputs": [],
   "source": [
    "#finding web element for job location bar\n",
    "search_locn.send_keys(\"Bangalore\")"
   ]
  },
  {
   "cell_type": "code",
   "execution_count": 27,
   "id": "283e1a32",
   "metadata": {},
   "outputs": [
    {
     "data": {
      "text/plain": [
       "<selenium.webdriver.remote.webelement.WebElement (session=\"182f1f4f9bebd90629e54185f3eb4344\", element=\"a0b1dacb-8668-4221-8431-9ed227890fbc\")>"
      ]
     },
     "execution_count": 27,
     "metadata": {},
     "output_type": "execute_result"
    }
   ],
   "source": [
    "#scraping the search box\n",
    "search_btn=driver.find_element_by_xpath(\"/html/body/div/div[2]/div[4]/div/div/div[6]\")\n",
    "search_btn"
   ]
  },
  {
   "cell_type": "code",
   "execution_count": 30,
   "id": "cd0f6bd9",
   "metadata": {},
   "outputs": [],
   "source": [
    "#using the search box\n",
    "search_btn.click()"
   ]
  },
  {
   "cell_type": "code",
   "execution_count": null,
   "id": "5b6d6a3b",
   "metadata": {},
   "outputs": [],
   "source": [
    "#extracting web elements with titles\n",
    "title_tags=driver.find_element_by_xpath(\"\")\n",
    "title_tags"
   ]
  },
  {
   "cell_type": "code",
   "execution_count": null,
   "id": "3b4777c1",
   "metadata": {},
   "outputs": [],
   "source": [
    "#checking for the length\n",
    "len(title_tags)"
   ]
  },
  {
   "cell_type": "code",
   "execution_count": null,
   "id": "4b58e4ff",
   "metadata": {},
   "outputs": [],
   "source": [
    "#printing job titles from title_tags\n",
    "job_titles=[]\n",
    "\n",
    "for i in title_tags:\n",
    "    job_titles.append(i.text)\n",
    "job_titles"
   ]
  },
  {
   "cell_type": "code",
   "execution_count": null,
   "id": "220054da",
   "metadata": {},
   "outputs": [],
   "source": [
    "#extracting web elements with location \n",
    "locn_tags=driver.find_elements_by_xpath(\"\")"
   ]
  },
  {
   "cell_type": "code",
   "execution_count": null,
   "id": "ffa8de1d",
   "metadata": {},
   "outputs": [],
   "source": [
    "#printing location from locn tags\n",
    "location=[]\n",
    "\n",
    "for i in locn_tags:\n",
    "    location.append(i.text)\n",
    "location "
   ]
  },
  {
   "cell_type": "code",
   "execution_count": null,
   "id": "60221ea2",
   "metadata": {},
   "outputs": [],
   "source": [
    "#extracting web elements with companies \n",
    "company_tags=driver.find_elements_by_xpath(\"\")"
   ]
  },
  {
   "cell_type": "code",
   "execution_count": null,
   "id": "097d291d",
   "metadata": {},
   "outputs": [],
   "source": [
    "#printing company names from company tags \n",
    "company_names=[]\n",
    "\n",
    "for i in company_tags:\n",
    "    company_names.append(i.text)\n",
    "company_names     "
   ]
  },
  {
   "cell_type": "code",
   "execution_count": null,
   "id": "06de74c1",
   "metadata": {},
   "outputs": [],
   "source": [
    "#extracting web elements with experience \n",
    "exp_tags=driver.find_element_by_xpath(\"\")"
   ]
  },
  {
   "cell_type": "code",
   "execution_count": null,
   "id": "c94e151a",
   "metadata": {},
   "outputs": [],
   "source": [
    "#printing experience from exp tags \n",
    "experience=[]\n",
    "\n",
    "for i in exp_tags:\n",
    "    experience.append(i.text)\n",
    "experience"
   ]
  },
  {
   "cell_type": "code",
   "execution_count": null,
   "id": "bbb941f1",
   "metadata": {},
   "outputs": [],
   "source": [
    "#checking for the length of all the above lists \n",
    "len(job_titles)\n",
    "len(comapny_names)\n",
    "len(experience)\n",
    "len(loaction)"
   ]
  },
  {
   "cell_type": "code",
   "execution_count": null,
   "id": "b0e9f343",
   "metadata": {},
   "outputs": [],
   "source": [
    "#Creating a DataFrame\n",
    "jobs=pd.DataFrame({'Job Title':job_titles,'Company Names':company_names,'Experience':experience,'Loaction':location})\n",
    "jobs"
   ]
  },
  {
   "cell_type": "code",
   "execution_count": null,
   "id": "29fff814",
   "metadata": {},
   "outputs": [],
   "source": [
    "#Question 2\n",
    "url=\"https://www.naukri.com/\"\n",
    "driver.get(url)"
   ]
  },
  {
   "cell_type": "code",
   "execution_count": null,
   "id": "e35567f1",
   "metadata": {},
   "outputs": [],
   "source": [
    "##Finding the element for search bar using xpath\n",
    "search_bar=driver.find_element_by_xpath(\"\")\n",
    "search_bar"
   ]
  },
  {
   "cell_type": "code",
   "execution_count": null,
   "id": "afb7fc8e",
   "metadata": {},
   "outputs": [],
   "source": [
    "#typing in searchbar \n",
    "search_bar.send_keys(\"Data Scientist\")"
   ]
  },
  {
   "cell_type": "code",
   "execution_count": null,
   "id": "0ef8c7d0",
   "metadata": {},
   "outputs": [],
   "source": [
    "#finding the web element for search icon bar\n",
    "search_lcon=driver.find_elements_by_xpath\n",
    "search_locn"
   ]
  },
  {
   "cell_type": "code",
   "execution_count": null,
   "id": "902d13e2",
   "metadata": {},
   "outputs": [],
   "source": [
    "#finding web element for job location bar\n",
    "search_locn.send_keys(\"Bangalore\")"
   ]
  },
  {
   "cell_type": "code",
   "execution_count": null,
   "id": "39dd3647",
   "metadata": {},
   "outputs": [],
   "source": [
    "#scraping the search box\n",
    "search_btn=driver.find_elements_by_xpath(\"\")\n",
    "search_btn"
   ]
  },
  {
   "cell_type": "code",
   "execution_count": null,
   "id": "4cad0a5d",
   "metadata": {},
   "outputs": [],
   "source": [
    "#using the search box\n",
    "search_btn.click()"
   ]
  },
  {
   "cell_type": "code",
   "execution_count": null,
   "id": "d0d51d83",
   "metadata": {},
   "outputs": [],
   "source": [
    "#extracting web elements with titles\n",
    "title_tags=driver.find_element_by_xpath(\"\")"
   ]
  },
  {
   "cell_type": "code",
   "execution_count": null,
   "id": "dc6beedb",
   "metadata": {},
   "outputs": [],
   "source": [
    "#checking for the length\n",
    "len(title_tags)"
   ]
  },
  {
   "cell_type": "code",
   "execution_count": null,
   "id": "b1afe472",
   "metadata": {},
   "outputs": [],
   "source": [
    "#printing job titles from title_tags\n",
    "job_titles=[]\n",
    "\n",
    "for i in title_tags:\n",
    "    job_titles.append(i.text)\n",
    "job_titles"
   ]
  },
  {
   "cell_type": "code",
   "execution_count": null,
   "id": "ccfe20ff",
   "metadata": {},
   "outputs": [],
   "source": [
    "#extracting web elements with location \n",
    "locn_tags=driver.find_elements_by_xpath(\"\")"
   ]
  },
  {
   "cell_type": "code",
   "execution_count": null,
   "id": "32536a39",
   "metadata": {},
   "outputs": [],
   "source": [
    "#printing location from locn tags\n",
    "location=[]\n",
    "\n",
    "for i in locn_tags:\n",
    "    location.append(i.text)\n",
    "location "
   ]
  },
  {
   "cell_type": "code",
   "execution_count": null,
   "id": "63c03e19",
   "metadata": {},
   "outputs": [],
   "source": [
    "#extracting web elements with companies \n",
    "company_tags=driver.find_elements_by_xpath(\"\")"
   ]
  },
  {
   "cell_type": "code",
   "execution_count": null,
   "id": "65fe6c38",
   "metadata": {},
   "outputs": [],
   "source": [
    "#printing company names from company tags \n",
    "company_names=[]\n",
    "\n",
    "for i in company_tags:\n",
    "    company_names.append(i.text)\n",
    "company_names     "
   ]
  },
  {
   "cell_type": "code",
   "execution_count": null,
   "id": "2caa838b",
   "metadata": {},
   "outputs": [],
   "source": [
    "#extracting web elements with experience \n",
    "exp_tags=driver.find_element_by_xpath(\"\")"
   ]
  },
  {
   "cell_type": "code",
   "execution_count": null,
   "id": "2fa929c4",
   "metadata": {},
   "outputs": [],
   "source": [
    "#printing experience from exp tags \n",
    "experience=[]\n",
    "\n",
    "for i in exp_tags:\n",
    "    experience.append(i.text)\n",
    "experience"
   ]
  },
  {
   "cell_type": "code",
   "execution_count": null,
   "id": "7e2264e7",
   "metadata": {},
   "outputs": [],
   "source": [
    "#checking for the length of all the above lists \n",
    "len({job_titles,comapny_names,experience,location})"
   ]
  },
  {
   "cell_type": "code",
   "execution_count": null,
   "id": "973ef7b7",
   "metadata": {},
   "outputs": [],
   "source": [
    "#Creating a DataFrame\n",
    "jobs=pd.DataFrame({'Job Title':job_titles,'Company Names':company_names,'Experience':experience,'Loaction':location})\n",
    "jobs"
   ]
  },
  {
   "cell_type": "code",
   "execution_count": null,
   "id": "54f04708",
   "metadata": {},
   "outputs": [],
   "source": [
    "#Question 3\n",
    "url=\"https://www.naukri.com/\"\n",
    "driver.get(url)"
   ]
  },
  {
   "cell_type": "code",
   "execution_count": null,
   "id": "2db34dd5",
   "metadata": {},
   "outputs": [],
   "source": [
    "#Finding the element for search bar using xpath \n",
    "search_bar=driver.find_element_by_xpath(\"\")\n",
    "search_bar"
   ]
  },
  {
   "cell_type": "code",
   "execution_count": null,
   "id": "07ca89de",
   "metadata": {},
   "outputs": [],
   "source": [
    "#typing in searchbar \n",
    "search_bar.send_keys(\"Data Scientist\")"
   ]
  },
  {
   "cell_type": "code",
   "execution_count": null,
   "id": "ff25ada4",
   "metadata": {},
   "outputs": [],
   "source": [
    "#scraping the search box\n",
    "search_btn=driver.find_elements_by_xpath(\"\")\n",
    "search_btn"
   ]
  },
  {
   "cell_type": "code",
   "execution_count": null,
   "id": "681748f6",
   "metadata": {},
   "outputs": [],
   "source": [
    "#using the search box\n",
    "search_btn.click()"
   ]
  },
  {
   "cell_type": "code",
   "execution_count": null,
   "id": "27a1a33b",
   "metadata": {},
   "outputs": [],
   "source": [
    "#Using a location filter\n",
    "location_check=driver.find_elements_by_xpath(\"\")"
   ]
  },
  {
   "cell_type": "code",
   "execution_count": null,
   "id": "295c9c50",
   "metadata": {},
   "outputs": [],
   "source": [
    "#clicking on the filter\n",
    "location_check.click()"
   ]
  },
  {
   "cell_type": "code",
   "execution_count": null,
   "id": "3dc909d9",
   "metadata": {},
   "outputs": [],
   "source": [
    "#Using a salary filter\n",
    "salary_check=driver.find_elements_by_xpath(\"\")"
   ]
  },
  {
   "cell_type": "code",
   "execution_count": null,
   "id": "9a154f8e",
   "metadata": {},
   "outputs": [],
   "source": [
    "#clicking on the filter \n",
    "salary_check.click()"
   ]
  },
  {
   "cell_type": "code",
   "execution_count": null,
   "id": "2646aede",
   "metadata": {},
   "outputs": [],
   "source": [
    "#extracting web elements with titles\n",
    "title_tags=driver.find_element_by_xpath(\"\")"
   ]
  },
  {
   "cell_type": "code",
   "execution_count": null,
   "id": "b486511a",
   "metadata": {},
   "outputs": [],
   "source": [
    "#checking for the length\n",
    "len(title_tags)"
   ]
  },
  {
   "cell_type": "code",
   "execution_count": null,
   "id": "bb0dde94",
   "metadata": {},
   "outputs": [],
   "source": [
    "#printing job titles from title_tags\n",
    "job_titles=[]\n",
    "\n",
    "for i in title_tags:\n",
    "    job_titles.append(i.text)\n",
    "job_titles"
   ]
  },
  {
   "cell_type": "code",
   "execution_count": null,
   "id": "a5827da4",
   "metadata": {},
   "outputs": [],
   "source": [
    "#extracting web elements with location \n",
    "locn_tags=driver.find_elements_by_xpath(\"\")"
   ]
  },
  {
   "cell_type": "code",
   "execution_count": null,
   "id": "a620d03b",
   "metadata": {},
   "outputs": [],
   "source": [
    "#printing location from locn tags\n",
    "location=[]\n",
    "\n",
    "for i in locn_tags:\n",
    "    location.append(i.text)\n",
    "location "
   ]
  },
  {
   "cell_type": "code",
   "execution_count": null,
   "id": "baeccd8d",
   "metadata": {},
   "outputs": [],
   "source": [
    "#extracting web elements with companies \n",
    "company_tags=driver.find_elements_by_xpath(\"\")"
   ]
  },
  {
   "cell_type": "code",
   "execution_count": null,
   "id": "223cc2a3",
   "metadata": {},
   "outputs": [],
   "source": [
    "#printing company names from company tags \n",
    "company_names=[]\n",
    "\n",
    "for i in company_tags:\n",
    "    company_names.append(i.text)\n",
    "company_names     "
   ]
  },
  {
   "cell_type": "code",
   "execution_count": null,
   "id": "67f622b8",
   "metadata": {},
   "outputs": [],
   "source": [
    "#extracting web elements with experience \n",
    "exp_tags=driver.find_element_by_xpath(\"\")"
   ]
  },
  {
   "cell_type": "code",
   "execution_count": null,
   "id": "a589f903",
   "metadata": {},
   "outputs": [],
   "source": [
    "#printing experience from exp tags \n",
    "experience=[]\n",
    "\n",
    "for i in exp_tags:\n",
    "    experience.append(i.text)\n",
    "experience    "
   ]
  },
  {
   "cell_type": "code",
   "execution_count": null,
   "id": "d8bd4788",
   "metadata": {},
   "outputs": [],
   "source": [
    "#checking for the length of all the above lists \n",
    "len({job_titles,comapny_names,experience,location})"
   ]
  },
  {
   "cell_type": "code",
   "execution_count": null,
   "id": "6c68f514",
   "metadata": {},
   "outputs": [],
   "source": [
    "#Creating a DataFrame\n",
    "jobs=pd.DataFrame({'Job Title':job_titles,'Company Names':company_names,'Experience':experience,'Loaction':location})\n",
    "jobs"
   ]
  },
  {
   "cell_type": "code",
   "execution_count": null,
   "id": "ae62fc75",
   "metadata": {},
   "outputs": [],
   "source": [
    "#Question 4\n",
    "url=\"http://www.flipkart.com/\"\n",
    "driver.get(url)"
   ]
  },
  {
   "cell_type": "code",
   "execution_count": null,
   "id": "0b9af461",
   "metadata": {},
   "outputs": [],
   "source": [
    "#Finding the element for search bar using xpath \n",
    "search_bar=driver.find_element_by_xpath(\"\")\n",
    "search_bar"
   ]
  },
  {
   "cell_type": "code",
   "execution_count": null,
   "id": "ef641112",
   "metadata": {},
   "outputs": [],
   "source": [
    "#typing in searchbar \n",
    "search_bar.send_keys(\"Sunglasses\")"
   ]
  },
  {
   "cell_type": "code",
   "execution_count": null,
   "id": "ce9b462d",
   "metadata": {},
   "outputs": [],
   "source": [
    "#using the search box\n",
    "search_bar.click()"
   ]
  },
  {
   "cell_type": "code",
   "execution_count": null,
   "id": "414f27be",
   "metadata": {},
   "outputs": [],
   "source": [
    "#extracting web elements with names\n",
    "names_tags=driver.find_element_by_xpath(\"\")\n",
    "names_tags"
   ]
  },
  {
   "cell_type": "code",
   "execution_count": null,
   "id": "45e5ce44",
   "metadata": {},
   "outputs": [],
   "source": [
    "#printing names from names tags\n",
    "names=[]\n",
    "\n",
    "for i in names_tags:\n",
    "    names.append(i.text)\n",
    "names  "
   ]
  },
  {
   "cell_type": "code",
   "execution_count": null,
   "id": "5fa3dc67",
   "metadata": {},
   "outputs": [],
   "source": [
    "#extracting web elements with types\n",
    "types_tags=driver.find_element_by_xpath(\"\")\n",
    "types_tags"
   ]
  },
  {
   "cell_type": "code",
   "execution_count": null,
   "id": "74d4cc78",
   "metadata": {},
   "outputs": [],
   "source": [
    "#printing types from types tags\n",
    "types=[]\n",
    "\n",
    "for i in types_tags:\n",
    "    types.append(i.text)\n",
    "types"
   ]
  },
  {
   "cell_type": "code",
   "execution_count": null,
   "id": "10c91122",
   "metadata": {},
   "outputs": [],
   "source": [
    "#extracting web elements with price\n",
    "price_tags=driver.find_element_by_xpath(\"\")\n",
    "price_tags"
   ]
  },
  {
   "cell_type": "code",
   "execution_count": null,
   "id": "8063725d",
   "metadata": {},
   "outputs": [],
   "source": [
    "#printing prices from price tags\n",
    "price=[]\n",
    "\n",
    "for i in price_tags:\n",
    "    price.append(i.text)\n",
    "price"
   ]
  },
  {
   "cell_type": "code",
   "execution_count": null,
   "id": "583bf200",
   "metadata": {},
   "outputs": [],
   "source": [
    "#extracting web elements with discounts\n",
    "discounts_tags=driver.find_element_by_xpath(\"\")\n",
    "discounts_tags"
   ]
  },
  {
   "cell_type": "code",
   "execution_count": null,
   "id": "07767df0",
   "metadata": {},
   "outputs": [],
   "source": [
    "#printing discounts from discounts tags\n",
    "discounts=[]\n",
    "\n",
    "for i in discounts_tags:\n",
    "    discounts.append(i.text)\n",
    "discounts"
   ]
  },
  {
   "cell_type": "code",
   "execution_count": null,
   "id": "f1f4d2cd",
   "metadata": {},
   "outputs": [],
   "source": [
    "#checking for the length of all the above lists \n",
    "len({names_tags,types_tags,price_tags,discounts_tags})"
   ]
  },
  {
   "cell_type": "code",
   "execution_count": null,
   "id": "6d8c3f40",
   "metadata": {},
   "outputs": [],
   "source": [
    "#Creating a DataFrame\n",
    "df=pd.DataFrame({'Names':names,'Types':types,'Prices':price,'Discounts':discounts})\n",
    "df"
   ]
  },
  {
   "cell_type": "code",
   "execution_count": null,
   "id": "c16c9219",
   "metadata": {},
   "outputs": [],
   "source": [
    "#Question 5:reviews for iphone 11\n",
    "url=\"https://www.flipkart.com/apple-iphone-11-black-64-gb-includes- earpods-power\u0002adapter/p/itm0f37c2240b217?pid=MOBFKCTSVZAXUHGR&lid=LSTMOBFKCTSVZAXUHGREPBFGI&marketplace\"\n",
    "driver.get(url)"
   ]
  },
  {
   "cell_type": "code",
   "execution_count": null,
   "id": "2e3b6c2c",
   "metadata": {},
   "outputs": [],
   "source": [
    "#extracting web elements with rating\n",
    "rating_tags=driver.find_element_by_xpath(\"\")\n",
    "rating_tags[0:99]"
   ]
  },
  {
   "cell_type": "code",
   "execution_count": null,
   "id": "df1c5cfd",
   "metadata": {},
   "outputs": [],
   "source": [
    "#printing prices from price tags\n",
    "ratings=[]\n",
    "\n",
    "for i in ratings_tags:\n",
    "    ratings.append(i.text)\n",
    "ratings"
   ]
  },
  {
   "cell_type": "code",
   "execution_count": null,
   "id": "fbaad9ae",
   "metadata": {},
   "outputs": [],
   "source": [
    "#extracting web elements with reviews\n",
    "rev_tags=driver.find_element_by_xpath(\"\")\n",
    "rev_tags[0:99]"
   ]
  },
  {
   "cell_type": "code",
   "execution_count": null,
   "id": "147d3dfa",
   "metadata": {},
   "outputs": [],
   "source": [
    "#printing prices from price tags\n",
    "reviews=[]\n",
    "\n",
    "for i in rev_tags:\n",
    "    reviews.append(i.text)\n",
    "reviews"
   ]
  },
  {
   "cell_type": "code",
   "execution_count": null,
   "id": "0c23c03b",
   "metadata": {},
   "outputs": [],
   "source": [
    "#extracting web elements with fullrev\n",
    "fullrev_tags=driver.find_element_by_xpath(\"\")\n",
    "fullrev_tags[0:99]"
   ]
  },
  {
   "cell_type": "code",
   "execution_count": null,
   "id": "d266b9e6",
   "metadata": {},
   "outputs": [],
   "source": [
    "#printing prices from price tags\n",
    "fullreviews=[]\n",
    "\n",
    "for i in fullrev_tags:\n",
    "    fullreviews.append(i.text)\n",
    "full_reviews"
   ]
  },
  {
   "cell_type": "code",
   "execution_count": null,
   "id": "ca3e1f47",
   "metadata": {},
   "outputs": [],
   "source": [
    "#checking for the length of all the above lists \n",
    "len({ratings,reviews,full_reviews})"
   ]
  },
  {
   "cell_type": "code",
   "execution_count": null,
   "id": "efc7f7c0",
   "metadata": {},
   "outputs": [],
   "source": [
    "#Question 6\n",
    "url=\"http://www.flipkart.com/\"\n",
    "driver.get(url)"
   ]
  },
  {
   "cell_type": "code",
   "execution_count": null,
   "id": "77d5fa4c",
   "metadata": {},
   "outputs": [],
   "source": [
    "#Finding the element for search bar using xpath \n",
    "search_bar=driver.find_element_by_xpath(\"\")\n",
    "search_bar"
   ]
  },
  {
   "cell_type": "code",
   "execution_count": null,
   "id": "9192a78f",
   "metadata": {},
   "outputs": [],
   "source": [
    "#typing in searchbar \n",
    "search_bar.send_keys(\"Sneakers\")"
   ]
  },
  {
   "cell_type": "code",
   "execution_count": null,
   "id": "ba1a584b",
   "metadata": {},
   "outputs": [],
   "source": [
    "#using the search box\n",
    "search_bar.click()"
   ]
  },
  {
   "cell_type": "code",
   "execution_count": null,
   "id": "c90b02e8",
   "metadata": {},
   "outputs": [],
   "source": [
    "#extracting web elements with brand names\n",
    "brand_names=driver.find_element_by_xpath(\"\")\n",
    "brand_names[0:99]"
   ]
  },
  {
   "cell_type": "code",
   "execution_count": null,
   "id": "a5dfe381",
   "metadata": {},
   "outputs": [],
   "source": [
    "#printing brand from brand names\n",
    "brand=[]\n",
    "\n",
    "for i in brand_names:\n",
    "    brand.append(i.text)\n",
    "brand"
   ]
  },
  {
   "cell_type": "code",
   "execution_count": null,
   "id": "c754d407",
   "metadata": {},
   "outputs": [],
   "source": [
    "#extracting web elements with prod_des\n",
    "prod_des=driver.find_element_by_xpath(\"\")\n",
    "prod_des[0:99]"
   ]
  },
  {
   "cell_type": "code",
   "execution_count": null,
   "id": "2c7ed1ab",
   "metadata": {},
   "outputs": [],
   "source": [
    "#printing product_designer from prod_des\n",
    "product_designer=[]\n",
    "\n",
    "for i in prod_des:\n",
    "    product_designer.append(i.text)\n",
    "product_designer"
   ]
  },
  {
   "cell_type": "code",
   "execution_count": null,
   "id": "ad58353d",
   "metadata": {},
   "outputs": [],
   "source": [
    "#extracting web elements with price tag\n",
    "price_tag=driver.find_element_by_xpath(\"\")\n",
    "price_tag[0:99]"
   ]
  },
  {
   "cell_type": "code",
   "execution_count": null,
   "id": "d167b741",
   "metadata": {},
   "outputs": [],
   "source": [
    "#printing price from price_tags\n",
    "price=[]\n",
    "\n",
    "for i in price_tags:\n",
    "    price.append(i.text)\n",
    "price"
   ]
  },
  {
   "cell_type": "code",
   "execution_count": null,
   "id": "8dffdb1d",
   "metadata": {},
   "outputs": [],
   "source": [
    "#extracting web elements with discounts\n",
    "discounts_tags=driver.find_element_by_xpath(\"\")\n",
    "discounts_tags[0:99]"
   ]
  },
  {
   "cell_type": "code",
   "execution_count": null,
   "id": "a80d9716",
   "metadata": {},
   "outputs": [],
   "source": [
    "#printing discounts from discounts tags\n",
    "discounts=[]\n",
    "\n",
    "for i in discounts_tags:\n",
    "    discounts.append(i.text)\n",
    "discounts"
   ]
  },
  {
   "cell_type": "code",
   "execution_count": null,
   "id": "03f13392",
   "metadata": {},
   "outputs": [],
   "source": [
    "#checking for the length of all the above lists \n",
    "len({brand,product_designer,price,discounts})"
   ]
  },
  {
   "cell_type": "code",
   "execution_count": null,
   "id": "1bc273c1",
   "metadata": {},
   "outputs": [],
   "source": [
    "#Creating a DataFrame\n",
    "df=pd.DataFrame({'Brand Name':brand_names,'Product Designer':product_designer,'Prices':price,'Discounts':discounts})\n",
    "df"
   ]
  },
  {
   "cell_type": "code",
   "execution_count": null,
   "id": "cb7ae61f",
   "metadata": {},
   "outputs": [],
   "source": [
    "#Question 7\n",
    "url\"http://www.myntra.com/shoes\"\n",
    "driver.get(url)"
   ]
  },
  {
   "cell_type": "code",
   "execution_count": null,
   "id": "129b2149",
   "metadata": {},
   "outputs": [],
   "source": [
    "#Using a price filter\n",
    "price_check=driver.find_elements_by_xpath(\"\")"
   ]
  },
  {
   "cell_type": "code",
   "execution_count": null,
   "id": "66721b1b",
   "metadata": {},
   "outputs": [],
   "source": [
    "#clicking on the filter\n",
    "price_check.click()"
   ]
  },
  {
   "cell_type": "code",
   "execution_count": null,
   "id": "59842111",
   "metadata": {},
   "outputs": [],
   "source": [
    "#Using a color filter\n",
    "color_check=driver.find_elements_by_xpath(\"\")"
   ]
  },
  {
   "cell_type": "code",
   "execution_count": null,
   "id": "2f711d76",
   "metadata": {},
   "outputs": [],
   "source": [
    "#clicking on the filter\n",
    "color_check.click()"
   ]
  },
  {
   "cell_type": "code",
   "execution_count": null,
   "id": "835fbea1",
   "metadata": {},
   "outputs": [],
   "source": [
    "#extracting web elements with brand names\n",
    "brand_names=driver.find_element_by_xpath(\"\")\n",
    "brand_names[0:99]"
   ]
  },
  {
   "cell_type": "code",
   "execution_count": null,
   "id": "e3e7d95d",
   "metadata": {},
   "outputs": [],
   "source": [
    "#printing brand from brand names\n",
    "brand=[]\n",
    "\n",
    "for i in brand_names:\n",
    "    brand.append(i.text)\n",
    "brand"
   ]
  },
  {
   "cell_type": "code",
   "execution_count": null,
   "id": "9415ae77",
   "metadata": {},
   "outputs": [],
   "source": [
    "#extracting web elements with desrip_tags\n",
    "descrip_tags=driver.find_element_by_xpath(\"\")\n",
    "descrip_tags[0:99]"
   ]
  },
  {
   "cell_type": "code",
   "execution_count": null,
   "id": "7a5755d7",
   "metadata": {},
   "outputs": [],
   "source": [
    "#printing brand from brand names\n",
    "description=[]\n",
    "\n",
    "for i in descrip_tags:\n",
    "    description.append(i.text)\n",
    "description"
   ]
  },
  {
   "cell_type": "code",
   "execution_count": null,
   "id": "a98f7257",
   "metadata": {},
   "outputs": [],
   "source": [
    "#extracting web elements with price tag\n",
    "price_tag=driver.find_element_by_xpath(\"\")\n",
    "price_tag[0:99]"
   ]
  },
  {
   "cell_type": "code",
   "execution_count": null,
   "id": "0485a0ba",
   "metadata": {},
   "outputs": [],
   "source": [
    "#printing price from price_tags\n",
    "price=[]\n",
    "\n",
    "for i in price_tags:\n",
    "    price.append(i.text)\n",
    "price"
   ]
  },
  {
   "cell_type": "code",
   "execution_count": null,
   "id": "bedb2f92",
   "metadata": {},
   "outputs": [],
   "source": [
    "#checking for the length of all the above lists \n",
    "len({brand,description,price})"
   ]
  },
  {
   "cell_type": "code",
   "execution_count": null,
   "id": "94a29e2a",
   "metadata": {},
   "outputs": [],
   "source": [
    "#Creating a DataFrame\n",
    "df=pd.DataFrame({'Brand Name':brand,'Description':description,'Prices':price})\n",
    "df"
   ]
  },
  {
   "cell_type": "code",
   "execution_count": null,
   "id": "7df84497",
   "metadata": {},
   "outputs": [],
   "source": [
    "#Question 8\n",
    "url=\"https://www.amazon.in/\"\n",
    "driver.get(url)"
   ]
  },
  {
   "cell_type": "code",
   "execution_count": null,
   "id": "fb17f64f",
   "metadata": {},
   "outputs": [],
   "source": [
    "#Finding the element for search bar using xpath\n",
    "search_bar=driver.find_element_by_xpath(\"\")\n",
    "search_bar"
   ]
  },
  {
   "cell_type": "code",
   "execution_count": null,
   "id": "83d88602",
   "metadata": {},
   "outputs": [],
   "source": [
    "#typing in searchbar \n",
    "search_bar.send_keys(\"Laptops\")"
   ]
  },
  {
   "cell_type": "code",
   "execution_count": null,
   "id": "d66b8282",
   "metadata": {},
   "outputs": [],
   "source": [
    "#using the search box\n",
    "search_bar.click()"
   ]
  },
  {
   "cell_type": "code",
   "execution_count": null,
   "id": "19f87c18",
   "metadata": {},
   "outputs": [],
   "source": [
    "#scraping the search box\n",
    "search_btn=driver.find_elements_by_xpath(\"\")\n",
    "search_btn"
   ]
  },
  {
   "cell_type": "code",
   "execution_count": null,
   "id": "046127cf",
   "metadata": {},
   "outputs": [],
   "source": [
    "#using the search box\n",
    "search_btn.click()"
   ]
  },
  {
   "cell_type": "code",
   "execution_count": null,
   "id": "49b400d8",
   "metadata": {},
   "outputs": [],
   "source": [
    "#Using a CPU-type filter\n",
    "CPUType_check=driver.find_elements_by_xpath(\"\")"
   ]
  },
  {
   "cell_type": "code",
   "execution_count": null,
   "id": "dc2fca7b",
   "metadata": {},
   "outputs": [],
   "source": [
    "#clicking on the filter\n",
    "price_check.click()"
   ]
  },
  {
   "cell_type": "code",
   "execution_count": null,
   "id": "a993836b",
   "metadata": {},
   "outputs": [],
   "source": [
    "#extracting web elements with titles\n",
    "title_tags=driver.find_element_by_xpath(\"\")\n",
    "title_tags[0:9]"
   ]
  },
  {
   "cell_type": "code",
   "execution_count": null,
   "id": "377d34eb",
   "metadata": {},
   "outputs": [],
   "source": [
    "#printing titles from title_tags\n",
    "titles=[]\n",
    "\n",
    "for i in title_tags:\n",
    "    titles.append(i.text)\n",
    "titles"
   ]
  },
  {
   "cell_type": "code",
   "execution_count": null,
   "id": "2c790cad",
   "metadata": {},
   "outputs": [],
   "source": [
    "#extracting web elements with ratings\n",
    "ratings_tags=driver.find_element_by_xpath(\"\")"
   ]
  },
  {
   "cell_type": "code",
   "execution_count": null,
   "id": "da8ee3f8",
   "metadata": {},
   "outputs": [],
   "source": [
    "#printing ratings from ratings_tags\n",
    "ratings=[]\n",
    "\n",
    "for i in ratings_tags:\n",
    "    ratings.append(i.text)\n",
    "ratings"
   ]
  },
  {
   "cell_type": "code",
   "execution_count": null,
   "id": "17c7dc24",
   "metadata": {},
   "outputs": [],
   "source": [
    "#extracting web elements with price tag\n",
    "price_tag=driver.find_element_by_xpath(\"\")\n",
    "price_tag[0:9]"
   ]
  },
  {
   "cell_type": "code",
   "execution_count": null,
   "id": "cfeac22b",
   "metadata": {},
   "outputs": [],
   "source": [
    "#printing price from price_tags\n",
    "price=[]\n",
    "\n",
    "for i in price_tags:\n",
    "    price.append(i.text)\n",
    "price"
   ]
  },
  {
   "cell_type": "code",
   "execution_count": null,
   "id": "4ab652df",
   "metadata": {},
   "outputs": [],
   "source": [
    "#checking for the length of all the above lists \n",
    "len({titles,ratings,price})"
   ]
  },
  {
   "cell_type": "code",
   "execution_count": null,
   "id": "c6121467",
   "metadata": {},
   "outputs": [],
   "source": [
    "#Question 9\n",
    "url=\"http://www.ambitionbox.com/\"\n",
    "driver.get(url)"
   ]
  },
  {
   "cell_type": "code",
   "execution_count": null,
   "id": "f0a0cb49",
   "metadata": {},
   "outputs": [],
   "source": [
    "#Finding the element for search bar using xpath\n",
    "search_bst=driver.find_element_by_xpath(\"\")\n",
    "search_bst"
   ]
  },
  {
   "cell_type": "code",
   "execution_count": null,
   "id": "039a135d",
   "metadata": {},
   "outputs": [],
   "source": [
    "#using the search box\n",
    "search_bst.click()"
   ]
  },
  {
   "cell_type": "code",
   "execution_count": null,
   "id": "b4905298",
   "metadata": {},
   "outputs": [],
   "source": [
    "#Finding the element for search bar using xpath\n",
    "search_bsp=driver.find_element_by_xpath(\"\")\n",
    "search_bsp"
   ]
  },
  {
   "cell_type": "code",
   "execution_count": null,
   "id": "fbe9fadf",
   "metadata": {},
   "outputs": [],
   "source": [
    "#using the search box\n",
    "search_bsp.click()"
   ]
  },
  {
   "cell_type": "code",
   "execution_count": null,
   "id": "f523697c",
   "metadata": {},
   "outputs": [],
   "source": [
    "#typing in searchbar \n",
    "search_bar.send_keys(\"Data Scientist\")"
   ]
  },
  {
   "cell_type": "code",
   "execution_count": null,
   "id": "785430b2",
   "metadata": {},
   "outputs": [],
   "source": [
    "#using the search box\n",
    "search_bar.click()"
   ]
  },
  {
   "cell_type": "code",
   "execution_count": null,
   "id": "bc454f36",
   "metadata": {},
   "outputs": [],
   "source": [
    "#Finding the element for search bar using xpath\n",
    "search_bsm=driver.find_element_by_xpath(\"\")\n",
    "search_bsm"
   ]
  },
  {
   "cell_type": "code",
   "execution_count": null,
   "id": "59b86670",
   "metadata": {},
   "outputs": [],
   "source": [
    "#using the search box\n",
    "search_bsm.click()"
   ]
  },
  {
   "cell_type": "code",
   "execution_count": null,
   "id": "de0e1926",
   "metadata": {},
   "outputs": [],
   "source": [
    "#Finding the element for search bar using xpath\n",
    "search_bsn=driver.find_element_by_xpath(\"\")\n",
    "search_bsn"
   ]
  },
  {
   "cell_type": "code",
   "execution_count": null,
   "id": "2f6ef3ff",
   "metadata": {},
   "outputs": [],
   "source": [
    "#using the search box\n",
    "search_bsn.click()"
   ]
  },
  {
   "cell_type": "code",
   "execution_count": null,
   "id": "ffd9e9ef",
   "metadata": {},
   "outputs": [],
   "source": [
    "#typing in searchbar \n",
    "search_bam.send_keys(\"Noida\")"
   ]
  },
  {
   "cell_type": "code",
   "execution_count": null,
   "id": "4c098a71",
   "metadata": {},
   "outputs": [],
   "source": [
    "#using the search box\n",
    "search_bam.click()"
   ]
  },
  {
   "cell_type": "code",
   "execution_count": null,
   "id": "20a4b9e1",
   "metadata": {},
   "outputs": [],
   "source": [
    "#extracting web elements with company name\n",
    "company_tag=driver.find_element_by_xpath(\"\")\n",
    "company_tag[0:9]"
   ]
  },
  {
   "cell_type": "code",
   "execution_count": null,
   "id": "a909834a",
   "metadata": {},
   "outputs": [],
   "source": [
    "#printing price from company tag\n",
    "company_name=[]\n",
    "\n",
    "for i in company_tag:\n",
    "    company_name.append(i.text)\n",
    "company_name"
   ]
  },
  {
   "cell_type": "code",
   "execution_count": null,
   "id": "acec882e",
   "metadata": {},
   "outputs": [],
   "source": [
    "#extracting web elements with number of days\n",
    "no_day=driver.find_element_by_xpath(\"\")\n",
    "no_day[0:9]"
   ]
  },
  {
   "cell_type": "code",
   "execution_count": null,
   "id": "65e8e66a",
   "metadata": {},
   "outputs": [],
   "source": [
    "#printing price from no day\n",
    "no_of_days=[]\n",
    "\n",
    "for i in no_day:\n",
    "    no_of_days.append(i.text)\n",
    "no_of_days"
   ]
  },
  {
   "cell_type": "code",
   "execution_count": null,
   "id": "111d3d54",
   "metadata": {},
   "outputs": [],
   "source": [
    "#extracting web elements with rating\n",
    "rat_tags=driver.find_element_by_xpath(\"\")\n",
    "rat_tags[0:9]"
   ]
  },
  {
   "cell_type": "code",
   "execution_count": null,
   "id": "351bdfbd",
   "metadata": {},
   "outputs": [],
   "source": [
    "#printing price from rat tags\n",
    "ratings=[]\n",
    "\n",
    "for i in rat_tags:\n",
    "    ratings.append(i.text)\n",
    "ratings"
   ]
  },
  {
   "cell_type": "code",
   "execution_count": null,
   "id": "a02cc227",
   "metadata": {},
   "outputs": [],
   "source": [
    "#checking for the length of all the above lists \n",
    "len({company_name,no_of_days,ratings})"
   ]
  },
  {
   "cell_type": "code",
   "execution_count": null,
   "id": "decfccc0",
   "metadata": {},
   "outputs": [],
   "source": [
    "#Creating a DataFrame\n",
    "df=pd.DataFrame({'Company Name':company_name,'Number Of Days':no_of_days,'Ratings':ratings})\n",
    "df"
   ]
  },
  {
   "cell_type": "code",
   "execution_count": null,
   "id": "d98d235c",
   "metadata": {},
   "outputs": [],
   "source": [
    "#Question 10\n",
    "url=\"http://www.ambitionbox.com/\"\n",
    "driver.get(url)"
   ]
  },
  {
   "cell_type": "code",
   "execution_count": null,
   "id": "35a0f9e3",
   "metadata": {},
   "outputs": [],
   "source": [
    "#Finding the element for search bar using xpath\n",
    "search_bsd=driver.find_element_by_xpath(\"\")\n",
    "search_bsd"
   ]
  },
  {
   "cell_type": "code",
   "execution_count": null,
   "id": "230ea266",
   "metadata": {},
   "outputs": [],
   "source": [
    "#using the search box\n",
    "search_bsd.click()"
   ]
  },
  {
   "cell_type": "code",
   "execution_count": null,
   "id": "5ca3876f",
   "metadata": {},
   "outputs": [],
   "source": [
    "#Finding the element for search bar using xpath\n",
    "search_bsp=driver.find_element_by_xpath(\"\")\n",
    "search_bsp"
   ]
  },
  {
   "cell_type": "code",
   "execution_count": null,
   "id": "d8463c86",
   "metadata": {},
   "outputs": [],
   "source": [
    "#using the search box\n",
    "search_bsp.click()"
   ]
  },
  {
   "cell_type": "code",
   "execution_count": null,
   "id": "14b0762e",
   "metadata": {},
   "outputs": [],
   "source": [
    "#typing in searchbar \n",
    "search_bar.send_keys(\"Data Scientist\")"
   ]
  },
  {
   "cell_type": "code",
   "execution_count": null,
   "id": "45c5370a",
   "metadata": {},
   "outputs": [],
   "source": [
    "#using the search box\n",
    "search_bar.click()"
   ]
  },
  {
   "cell_type": "code",
   "execution_count": null,
   "id": "3b88eb15",
   "metadata": {},
   "outputs": [],
   "source": [
    "#extracting web elements with company name\n",
    "company_tag=driver.find_element_by_xpath(\"\")\n",
    "company_tag[0:9]"
   ]
  },
  {
   "cell_type": "code",
   "execution_count": null,
   "id": "ec3f5c01",
   "metadata": {},
   "outputs": [],
   "source": [
    "#printing price from company tag\n",
    "company_name=[]\n",
    "\n",
    "for i in company_tag:\n",
    "    company_name.append(i.text)\n",
    "company_name"
   ]
  },
  {
   "cell_type": "code",
   "execution_count": null,
   "id": "c59206a3",
   "metadata": {},
   "outputs": [],
   "source": [
    "#extracting web elements with total salary\n",
    "tot_sal=driver.find_element_by_xpath(\"\")\n",
    "tot_sal[0:9]"
   ]
  },
  {
   "cell_type": "code",
   "execution_count": null,
   "id": "cb736516",
   "metadata": {},
   "outputs": [],
   "source": [
    "#printing price from tot sal\n",
    "total_salary=[]\n",
    "\n",
    "for i in tot_sal:\n",
    "    total_salary.append(i.text)\n",
    "total_salary"
   ]
  },
  {
   "cell_type": "code",
   "execution_count": null,
   "id": "31f969ce",
   "metadata": {},
   "outputs": [],
   "source": [
    "#extracting web elements with average salary\n",
    "avg_sal=driver.find_element_by_xpath(\"\")\n",
    "avg_sal[0:9]"
   ]
  },
  {
   "cell_type": "code",
   "execution_count": null,
   "id": "a5d3f8d9",
   "metadata": {},
   "outputs": [],
   "source": [
    "#printing price from avg sal\n",
    "average_salary=[]\n",
    "\n",
    "for i in avg_sal:\n",
    "    average_salary.append(i.text)\n",
    "average_salary"
   ]
  },
  {
   "cell_type": "code",
   "execution_count": null,
   "id": "bb286fe7",
   "metadata": {},
   "outputs": [],
   "source": [
    "#extracting web elements with minimum salary\n",
    "min_sal=driver.find_element_by_xpath(\"\")\n",
    "min_sal[0:9]"
   ]
  },
  {
   "cell_type": "code",
   "execution_count": null,
   "id": "ed9ad9aa",
   "metadata": {},
   "outputs": [],
   "source": [
    "#printing price from min sal\n",
    "minimum_salary=[]\n",
    "\n",
    "for i in min_sal:\n",
    "    minimum_salary.append(i.text)\n",
    "minimum_salary"
   ]
  },
  {
   "cell_type": "code",
   "execution_count": null,
   "id": "4299923c",
   "metadata": {},
   "outputs": [],
   "source": [
    "#extracting web elements with maximum salary\n",
    "max_sal=driver.find_element_by_xpath(\"\")\n",
    "max_sal[0:9]"
   ]
  },
  {
   "cell_type": "code",
   "execution_count": null,
   "id": "1b075e1c",
   "metadata": {},
   "outputs": [],
   "source": [
    "#printing price from max sal\n",
    "maximum_salary=[]\n",
    "\n",
    "for i in max_sal:\n",
    "    maximum_salary.append(i.text)\n",
    "maximum_salary"
   ]
  },
  {
   "cell_type": "code",
   "execution_count": null,
   "id": "ad47ec2a",
   "metadata": {},
   "outputs": [],
   "source": [
    "#extracting web elements with experience\n",
    "exp_tags=driver.find_element_by_xpath(\"\")\n",
    "exp_tags[0:9]"
   ]
  },
  {
   "cell_type": "code",
   "execution_count": null,
   "id": "b62369b5",
   "metadata": {},
   "outputs": [],
   "source": [
    "#printing experience from exp tags \n",
    "experience=[]\n",
    "\n",
    "for i in exp_tags:\n",
    "    experience.append(i.text)\n",
    "experience    "
   ]
  },
  {
   "cell_type": "code",
   "execution_count": null,
   "id": "e09cbb6f",
   "metadata": {},
   "outputs": [],
   "source": [
    "#checking for the length of all the above lists \n",
    "len({company_name,total_salary,average_salary,minimum_salary,maximum_salary,experience})"
   ]
  },
  {
   "cell_type": "code",
   "execution_count": null,
   "id": "9a3efc10",
   "metadata": {},
   "outputs": [],
   "source": [
    "#Creating a DataFrame\n",
    "df=pd.DataFrame({'Company Name:'company_name,'Total Salary:'total_salary,'Average Salary:'average_salary,'Minimum Salary:'minimum_salary,'Maximum Salary:'maximum_salary,'Experience:'experience})\n",
    "df"
   ]
  }
 ],
 "metadata": {
  "kernelspec": {
   "display_name": "Python 3 (ipykernel)",
   "language": "python",
   "name": "python3"
  },
  "language_info": {
   "codemirror_mode": {
    "name": "ipython",
    "version": 3
   },
   "file_extension": ".py",
   "mimetype": "text/x-python",
   "name": "python",
   "nbconvert_exporter": "python",
   "pygments_lexer": "ipython3",
   "version": "3.9.7"
  }
 },
 "nbformat": 4,
 "nbformat_minor": 5
}
